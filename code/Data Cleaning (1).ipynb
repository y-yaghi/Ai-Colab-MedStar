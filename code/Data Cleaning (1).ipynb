{
 "cells": [
  {
   "cell_type": "markdown",
   "id": "cabb02a3",
   "metadata": {},
   "source": [
    "### Loading Libraries"
   ]
  },
  {
   "cell_type": "code",
   "execution_count": 52,
   "id": "2f3bed4f",
   "metadata": {},
   "outputs": [],
   "source": [
    "import pandas as pd\n",
    "import matplotlib.pyplot as plt\n",
    "import seaborn as sns\n",
    "import numpy as np\n",
    "from collections import Counter\n",
    "from sklearn.preprocessing import StandardScaler"
   ]
  },
  {
   "cell_type": "markdown",
   "id": "c4191dd0",
   "metadata": {},
   "source": [
    "### Loading Datasets"
   ]
  },
  {
   "cell_type": "code",
   "execution_count": 3,
   "id": "46b2b77d",
   "metadata": {},
   "outputs": [],
   "source": [
    "data = pd.read_csv('merged_nhanes_2007_2008.csv')"
   ]
  },
  {
   "cell_type": "markdown",
   "id": "dbebfe0b",
   "metadata": {},
   "source": [
    "### Understanding Dataset"
   ]
  },
  {
   "cell_type": "code",
   "execution_count": 5,
   "id": "5ad087ea",
   "metadata": {},
   "outputs": [
    {
     "data": {
      "text/plain": [
       "(4438, 21)"
      ]
     },
     "execution_count": 5,
     "metadata": {},
     "output_type": "execute_result"
    }
   ],
   "source": [
    "data.shape"
   ]
  },
  {
   "cell_type": "code",
   "execution_count": 6,
   "id": "75d4666e",
   "metadata": {},
   "outputs": [
    {
     "data": {
      "text/plain": [
       "['SEQN',\n",
       " 'LBXGLU',\n",
       " 'LBXIN',\n",
       " 'LBXSBU',\n",
       " 'LBXSCR',\n",
       " 'URDACT',\n",
       " 'URXUMA',\n",
       " 'URXUCR',\n",
       " 'SMQ020',\n",
       " 'SMQ040',\n",
       " 'ALQ111',\n",
       " 'ALQ121',\n",
       " 'ALQ130',\n",
       " 'RIAGENDR',\n",
       " 'RIDAGEYR',\n",
       " 'DMDEDUC2',\n",
       " 'INDFMPIR',\n",
       " 'DIQ010',\n",
       " 'DID040',\n",
       " 'DIQ050',\n",
       " 'DIQ070']"
      ]
     },
     "execution_count": 6,
     "metadata": {},
     "output_type": "execute_result"
    }
   ],
   "source": [
    "list(data.columns.values)"
   ]
  },
  {
   "cell_type": "code",
   "execution_count": 7,
   "id": "1f58e49a",
   "metadata": {},
   "outputs": [
    {
     "name": "stdout",
     "output_type": "stream",
     "text": [
      "Number of unique IDs: 4438\n"
     ]
    }
   ],
   "source": [
    "unique_SEQN_count = data['SEQN'].nunique()\n",
    "print(\"Number of unique IDs:\", unique_SEQN_count)"
   ]
  },
  {
   "cell_type": "code",
   "execution_count": 8,
   "id": "6acd55d6",
   "metadata": {},
   "outputs": [
    {
     "name": "stdout",
     "output_type": "stream",
     "text": [
      "       SEQN  LBXGLU  LBXIN  LBXSBU  LBXSCR  URDACT  URXUMA  URXUCR  SMQ020  \\\n",
      "0  109271.0   103.0  16.96     8.0    0.78    7.50     2.4    32.0     1.0   \n",
      "1  109274.0   154.0  13.52    11.0    0.74   10.67    12.8   120.0     2.0   \n",
      "2  109282.0    95.0   7.49    18.0    0.88    8.33    16.0   192.0     1.0   \n",
      "3  109286.0    92.0  16.46     9.0    0.55    9.19     6.8    74.0     2.0   \n",
      "4  109290.0   106.0  20.25    18.0    0.69    8.24    22.4   272.0     2.0   \n",
      "\n",
      "   SMQ040  ...  ALQ121  ALQ130  RIAGENDR  RIDAGEYR  DMDEDUC2  INDFMPIR  \\\n",
      "0     1.0  ...     0.0     NaN       1.0      49.0       2.0       NaN   \n",
      "1     NaN  ...     4.0     2.0       1.0      68.0       4.0      1.20   \n",
      "2     3.0  ...     0.0     NaN       1.0      76.0       5.0      3.61   \n",
      "3     NaN  ...     NaN     NaN       2.0      33.0       5.0      1.36   \n",
      "4     NaN  ...     0.0     NaN       2.0      68.0       5.0      5.00   \n",
      "\n",
      "   DIQ010  DID040  DIQ050  DIQ070  \n",
      "0     2.0     NaN     NaN     NaN  \n",
      "1     1.0    54.0     1.0     1.0  \n",
      "2     2.0     NaN     NaN     NaN  \n",
      "3     2.0     NaN     NaN     2.0  \n",
      "4     1.0    60.0     2.0     1.0  \n",
      "\n",
      "[5 rows x 21 columns]\n"
     ]
    }
   ],
   "source": [
    "print(data.head())"
   ]
  },
  {
   "cell_type": "code",
   "execution_count": 19,
   "id": "b8b2618f",
   "metadata": {},
   "outputs": [
    {
     "data": {
      "text/html": [
       "<div>\n",
       "<style scoped>\n",
       "    .dataframe tbody tr th:only-of-type {\n",
       "        vertical-align: middle;\n",
       "    }\n",
       "\n",
       "    .dataframe tbody tr th {\n",
       "        vertical-align: top;\n",
       "    }\n",
       "\n",
       "    .dataframe thead th {\n",
       "        text-align: right;\n",
       "    }\n",
       "</style>\n",
       "<table border=\"1\" class=\"dataframe\">\n",
       "  <thead>\n",
       "    <tr style=\"text-align: right;\">\n",
       "      <th></th>\n",
       "      <th>Feature Name</th>\n",
       "      <th>Data Type</th>\n",
       "      <th>Missing Values</th>\n",
       "      <th>Unique Values</th>\n",
       "      <th>Description</th>\n",
       "    </tr>\n",
       "  </thead>\n",
       "  <tbody>\n",
       "    <tr>\n",
       "      <th>0</th>\n",
       "      <td>SEQN</td>\n",
       "      <td>float64</td>\n",
       "      <td>0</td>\n",
       "      <td>4438</td>\n",
       "      <td>Respondent sequence number (unique ID for each...</td>\n",
       "    </tr>\n",
       "    <tr>\n",
       "      <th>1</th>\n",
       "      <td>LBXGLU</td>\n",
       "      <td>float64</td>\n",
       "      <td>265</td>\n",
       "      <td>238</td>\n",
       "      <td>Fasting glucose (mg/dL)</td>\n",
       "    </tr>\n",
       "    <tr>\n",
       "      <th>2</th>\n",
       "      <td>LBXIN</td>\n",
       "      <td>float64</td>\n",
       "      <td>359</td>\n",
       "      <td>2106</td>\n",
       "      <td>Fasting insulin (μU/mL)</td>\n",
       "    </tr>\n",
       "    <tr>\n",
       "      <th>3</th>\n",
       "      <td>LBXSBU</td>\n",
       "      <td>float64</td>\n",
       "      <td>346</td>\n",
       "      <td>57</td>\n",
       "      <td>Blood urea nitrogen (BUN) (mg/dL), marker of k...</td>\n",
       "    </tr>\n",
       "    <tr>\n",
       "      <th>4</th>\n",
       "      <td>LBXSCR</td>\n",
       "      <td>float64</td>\n",
       "      <td>344</td>\n",
       "      <td>186</td>\n",
       "      <td>Serum creatinine (mg/dL), used to assess kidne...</td>\n",
       "    </tr>\n",
       "    <tr>\n",
       "      <th>5</th>\n",
       "      <td>URDACT</td>\n",
       "      <td>float64</td>\n",
       "      <td>99</td>\n",
       "      <td>2022</td>\n",
       "      <td>Urine albumin-to-creatinine ratio (mg/g), mark...</td>\n",
       "    </tr>\n",
       "    <tr>\n",
       "      <th>6</th>\n",
       "      <td>URXUMA</td>\n",
       "      <td>float64</td>\n",
       "      <td>99</td>\n",
       "      <td>852</td>\n",
       "      <td>Urine albumin (μg/mL)</td>\n",
       "    </tr>\n",
       "    <tr>\n",
       "      <th>7</th>\n",
       "      <td>URXUCR</td>\n",
       "      <td>float64</td>\n",
       "      <td>99</td>\n",
       "      <td>407</td>\n",
       "      <td>Urine creatinine (mg/dL)</td>\n",
       "    </tr>\n",
       "    <tr>\n",
       "      <th>8</th>\n",
       "      <td>SMQ020</td>\n",
       "      <td>float64</td>\n",
       "      <td>0</td>\n",
       "      <td>4</td>\n",
       "      <td>Ever smoked at least 100 cigarettes in life (1...</td>\n",
       "    </tr>\n",
       "    <tr>\n",
       "      <th>9</th>\n",
       "      <td>SMQ040</td>\n",
       "      <td>float64</td>\n",
       "      <td>2610</td>\n",
       "      <td>3</td>\n",
       "      <td>Current smoking status (1 = Every day, 2 = Som...</td>\n",
       "    </tr>\n",
       "    <tr>\n",
       "      <th>10</th>\n",
       "      <td>ALQ111</td>\n",
       "      <td>float64</td>\n",
       "      <td>273</td>\n",
       "      <td>2</td>\n",
       "      <td>Ever had at least one alcoholic drink (1 = Yes...</td>\n",
       "    </tr>\n",
       "    <tr>\n",
       "      <th>11</th>\n",
       "      <td>ALQ121</td>\n",
       "      <td>float64</td>\n",
       "      <td>679</td>\n",
       "      <td>11</td>\n",
       "      <td>Drinking frequency over past 12 months</td>\n",
       "    </tr>\n",
       "    <tr>\n",
       "      <th>12</th>\n",
       "      <td>ALQ130</td>\n",
       "      <td>float64</td>\n",
       "      <td>1532</td>\n",
       "      <td>15</td>\n",
       "      <td>Average number of alcoholic drinks per day (pa...</td>\n",
       "    </tr>\n",
       "    <tr>\n",
       "      <th>13</th>\n",
       "      <td>RIAGENDR</td>\n",
       "      <td>float64</td>\n",
       "      <td>0</td>\n",
       "      <td>2</td>\n",
       "      <td>Gender (1 = Male, 2 = Female)</td>\n",
       "    </tr>\n",
       "    <tr>\n",
       "      <th>14</th>\n",
       "      <td>RIDAGEYR</td>\n",
       "      <td>float64</td>\n",
       "      <td>0</td>\n",
       "      <td>63</td>\n",
       "      <td>Age in years at time of screening</td>\n",
       "    </tr>\n",
       "    <tr>\n",
       "      <th>15</th>\n",
       "      <td>DMDEDUC2</td>\n",
       "      <td>float64</td>\n",
       "      <td>186</td>\n",
       "      <td>6</td>\n",
       "      <td>Education level (1 = Less than 9th grade to 5 ...</td>\n",
       "    </tr>\n",
       "    <tr>\n",
       "      <th>16</th>\n",
       "      <td>INDFMPIR</td>\n",
       "      <td>float64</td>\n",
       "      <td>630</td>\n",
       "      <td>431</td>\n",
       "      <td>Ratio of family income to poverty level (highe...</td>\n",
       "    </tr>\n",
       "    <tr>\n",
       "      <th>17</th>\n",
       "      <td>DIQ010</td>\n",
       "      <td>float64</td>\n",
       "      <td>0</td>\n",
       "      <td>4</td>\n",
       "      <td>Doctor told you have diabetes (1 = Yes, 2 = No)</td>\n",
       "    </tr>\n",
       "    <tr>\n",
       "      <th>18</th>\n",
       "      <td>DID040</td>\n",
       "      <td>float64</td>\n",
       "      <td>3746</td>\n",
       "      <td>69</td>\n",
       "      <td>Age when first told you had diabetes</td>\n",
       "    </tr>\n",
       "    <tr>\n",
       "      <th>19</th>\n",
       "      <td>DIQ050</td>\n",
       "      <td>float64</td>\n",
       "      <td>3745</td>\n",
       "      <td>2</td>\n",
       "      <td>Currently taking insulin (1 = Yes, 2 = No)</td>\n",
       "    </tr>\n",
       "    <tr>\n",
       "      <th>20</th>\n",
       "      <td>DIQ070</td>\n",
       "      <td>float64</td>\n",
       "      <td>3175</td>\n",
       "      <td>3</td>\n",
       "      <td>Currently taking pills to lower blood sugar (1...</td>\n",
       "    </tr>\n",
       "  </tbody>\n",
       "</table>\n",
       "</div>"
      ],
      "text/plain": [
       "   Feature Name Data Type  Missing Values  Unique Values  \\\n",
       "0          SEQN   float64               0           4438   \n",
       "1        LBXGLU   float64             265            238   \n",
       "2         LBXIN   float64             359           2106   \n",
       "3        LBXSBU   float64             346             57   \n",
       "4        LBXSCR   float64             344            186   \n",
       "5        URDACT   float64              99           2022   \n",
       "6        URXUMA   float64              99            852   \n",
       "7        URXUCR   float64              99            407   \n",
       "8        SMQ020   float64               0              4   \n",
       "9        SMQ040   float64            2610              3   \n",
       "10       ALQ111   float64             273              2   \n",
       "11       ALQ121   float64             679             11   \n",
       "12       ALQ130   float64            1532             15   \n",
       "13     RIAGENDR   float64               0              2   \n",
       "14     RIDAGEYR   float64               0             63   \n",
       "15     DMDEDUC2   float64             186              6   \n",
       "16     INDFMPIR   float64             630            431   \n",
       "17       DIQ010   float64               0              4   \n",
       "18       DID040   float64            3746             69   \n",
       "19       DIQ050   float64            3745              2   \n",
       "20       DIQ070   float64            3175              3   \n",
       "\n",
       "                                          Description  \n",
       "0   Respondent sequence number (unique ID for each...  \n",
       "1                             Fasting glucose (mg/dL)  \n",
       "2                             Fasting insulin (μU/mL)  \n",
       "3   Blood urea nitrogen (BUN) (mg/dL), marker of k...  \n",
       "4   Serum creatinine (mg/dL), used to assess kidne...  \n",
       "5   Urine albumin-to-creatinine ratio (mg/g), mark...  \n",
       "6                               Urine albumin (μg/mL)  \n",
       "7                            Urine creatinine (mg/dL)  \n",
       "8   Ever smoked at least 100 cigarettes in life (1...  \n",
       "9   Current smoking status (1 = Every day, 2 = Som...  \n",
       "10  Ever had at least one alcoholic drink (1 = Yes...  \n",
       "11             Drinking frequency over past 12 months  \n",
       "12  Average number of alcoholic drinks per day (pa...  \n",
       "13                      Gender (1 = Male, 2 = Female)  \n",
       "14                  Age in years at time of screening  \n",
       "15  Education level (1 = Less than 9th grade to 5 ...  \n",
       "16  Ratio of family income to poverty level (highe...  \n",
       "17    Doctor told you have diabetes (1 = Yes, 2 = No)  \n",
       "18               Age when first told you had diabetes  \n",
       "19         Currently taking insulin (1 = Yes, 2 = No)  \n",
       "20  Currently taking pills to lower blood sugar (1...  "
      ]
     },
     "execution_count": 19,
     "metadata": {},
     "output_type": "execute_result"
    }
   ],
   "source": [
    "import pandas as pd\n",
    "\n",
    "def create_data_dictionary(data):\n",
    "    data_dict = {\n",
    "        \"Feature Name\": [],\n",
    "        \"Data Type\": [],\n",
    "        \"Missing Values\": [],\n",
    "        \"Unique Values\": [],\n",
    "        \"Description\": [],\n",
    "    }\n",
    "\n",
    "    # Feature descriptions for your current dataset\n",
    "    feature_descriptions = {\n",
    "        \"SEQN\": \"Respondent sequence number (unique ID for each participant)\",\n",
    "        \"LBXGLU\": \"Fasting glucose (mg/dL)\",\n",
    "        \"LBXIN\": \"Fasting insulin (μU/mL)\",\n",
    "        \"LBXSBU\": \"Blood urea nitrogen (BUN) (mg/dL), marker of kidney function\",\n",
    "        \"LBXSCR\": \"Serum creatinine (mg/dL), used to assess kidney function\",\n",
    "        \"URDACT\": \"Urine albumin-to-creatinine ratio (mg/g), marker of early kidney damage\",\n",
    "        \"URXUMA\": \"Urine albumin (μg/mL)\",\n",
    "        \"URXUCR\": \"Urine creatinine (mg/dL)\",\n",
    "        \"SMQ020\": \"Ever smoked at least 100 cigarettes in life (1 = Yes, 2 = No)\",\n",
    "        \"SMQ040\": \"Current smoking status (1 = Every day, 2 = Some days, 3 = Not at all)\",\n",
    "        \"ALQ111\": \"Ever had at least one alcoholic drink (1 = Yes, 2 = No)\",\n",
    "        \"ALQ121\": \"Drinking frequency over past 12 months\",\n",
    "        \"ALQ130\": \"Average number of alcoholic drinks per day (past 12 months)\",\n",
    "        \"RIAGENDR\": \"Gender (1 = Male, 2 = Female)\",\n",
    "        \"RIDAGEYR\": \"Age in years at time of screening\",\n",
    "        \"DMDEDUC2\": \"Education level (1 = Less than 9th grade to 5 = College graduate or above)\",\n",
    "        \"INDFMPIR\": \"Ratio of family income to poverty level (higher = higher income)\",\n",
    "        \"DIQ010\": \"Doctor told you have diabetes (1 = Yes, 2 = No)\",\n",
    "        \"DID040\": \"Age when first told you had diabetes\",\n",
    "        \"DIQ050\": \"Currently taking insulin (1 = Yes, 2 = No)\",\n",
    "        \"DIQ070\": \"Currently taking pills to lower blood sugar (1 = Yes, 2 = No)\"\n",
    "    }\n",
    "\n",
    "    # Loop through each column in the DataFrame\n",
    "    for column in data.columns:\n",
    "        data_dict[\"Feature Name\"].append(column)\n",
    "        data_dict[\"Data Type\"].append(data[column].dtype)\n",
    "        data_dict[\"Missing Values\"].append(data[column].isnull().sum())\n",
    "        data_dict[\"Unique Values\"].append(data[column].nunique())\n",
    "        data_dict[\"Description\"].append(feature_descriptions.get(column, \"No description available\"))\n",
    "\n",
    "    return pd.DataFrame(data_dict)\n",
    "# Optional: remove a column if it exists\n",
    "data = data.drop(columns=['Calculated_Diff'], errors='ignore')\n",
    "\n",
    "# Create and view the data dictionary\n",
    "data_dict_df = create_data_dictionary(data)\n",
    "data_dict_df"
   ]
  },
  {
   "cell_type": "code",
   "execution_count": 20,
   "id": "ac9303ac",
   "metadata": {},
   "outputs": [
    {
     "data": {
      "text/plain": [
       "3746"
      ]
     },
     "execution_count": 20,
     "metadata": {},
     "output_type": "execute_result"
    }
   ],
   "source": [
    "data['DID040'].isnull().sum()"
   ]
  },
  {
   "cell_type": "code",
   "execution_count": 21,
   "id": "856004ed",
   "metadata": {},
   "outputs": [
    {
     "name": "stdout",
     "output_type": "stream",
     "text": [
      "<class 'pandas.core.frame.DataFrame'>\n",
      "RangeIndex: 4438 entries, 0 to 4437\n",
      "Data columns (total 21 columns):\n",
      " #   Column    Non-Null Count  Dtype  \n",
      "---  ------    --------------  -----  \n",
      " 0   SEQN      4438 non-null   float64\n",
      " 1   LBXGLU    4173 non-null   float64\n",
      " 2   LBXIN     4079 non-null   float64\n",
      " 3   LBXSBU    4092 non-null   float64\n",
      " 4   LBXSCR    4094 non-null   float64\n",
      " 5   URDACT    4339 non-null   float64\n",
      " 6   URXUMA    4339 non-null   float64\n",
      " 7   URXUCR    4339 non-null   float64\n",
      " 8   SMQ020    4438 non-null   float64\n",
      " 9   SMQ040    1828 non-null   float64\n",
      " 10  ALQ111    4165 non-null   float64\n",
      " 11  ALQ121    3759 non-null   float64\n",
      " 12  ALQ130    2906 non-null   float64\n",
      " 13  RIAGENDR  4438 non-null   float64\n",
      " 14  RIDAGEYR  4438 non-null   float64\n",
      " 15  DMDEDUC2  4252 non-null   float64\n",
      " 16  INDFMPIR  3808 non-null   float64\n",
      " 17  DIQ010    4438 non-null   float64\n",
      " 18  DID040    692 non-null    float64\n",
      " 19  DIQ050    693 non-null    float64\n",
      " 20  DIQ070    1263 non-null   float64\n",
      "dtypes: float64(21)\n",
      "memory usage: 728.2 KB\n",
      "\n",
      "Missing data summary:\n",
      "          Missing Values  Missing %\n",
      "LBXGLU               265       5.97\n",
      "LBXIN                359       8.09\n",
      "LBXSBU               346       7.80\n",
      "LBXSCR               344       7.75\n",
      "URDACT                99       2.23\n",
      "URXUMA                99       2.23\n",
      "URXUCR                99       2.23\n",
      "SMQ040              2610      58.81\n",
      "ALQ111               273       6.15\n",
      "ALQ121               679      15.30\n",
      "ALQ130              1532      34.52\n",
      "DMDEDUC2             186       4.19\n",
      "INDFMPIR             630      14.20\n",
      "DID040              3746      84.41\n",
      "DIQ050              3745      84.38\n",
      "DIQ070              3175      71.54\n"
     ]
    }
   ],
   "source": [
    "data.info()\n",
    "data.describe()\n",
    "\n",
    "missing_values = data.isnull().sum()\n",
    "missing_percent = (missing_values / len(data)) * 100\n",
    "missing_df = pd.DataFrame({\n",
    "    'Missing Values': missing_values,\n",
    "    'Missing %': missing_percent.round(2)\n",
    "})\n",
    "print(\"\\nMissing data summary:\")\n",
    "print(missing_df[missing_df['Missing Values'] > 0])"
   ]
  },
  {
   "cell_type": "code",
   "execution_count": 22,
   "id": "20116032",
   "metadata": {},
   "outputs": [
    {
     "name": "stdout",
     "output_type": "stream",
     "text": [
      "Rows after filtering valid diabetes status: 4307\n"
     ]
    }
   ],
   "source": [
    "df = data[data['DIQ010'].isin([1, 2])].copy()\n",
    "print(\"Rows after filtering valid diabetes status:\", df.shape[0])"
   ]
  },
  {
   "cell_type": "code",
   "execution_count": 23,
   "id": "178c03b9",
   "metadata": {},
   "outputs": [
    {
     "name": "stdout",
     "output_type": "stream",
     "text": [
      "\n",
      "Number of participants by diabetes status:\n",
      "No Diabetes     3614\n",
      "Has Diabetes     693\n",
      "Name: DIQ010, dtype: int64\n"
     ]
    }
   ],
   "source": [
    "t2d_counts = df['DIQ010'].value_counts().rename(index={1: 'Has Diabetes', 2: 'No Diabetes'})\n",
    "print(\"\\nNumber of participants by diabetes status:\")\n",
    "print(t2d_counts)"
   ]
  },
  {
   "cell_type": "code",
   "execution_count": 24,
   "id": "000c9b07",
   "metadata": {},
   "outputs": [
    {
     "name": "stdout",
     "output_type": "stream",
     "text": [
      "Likely Type 1 cases flagged: 16\n",
      "Final dataset size after removing likely T1D: 4291\n"
     ]
    }
   ],
   "source": [
    "def is_likely_type1(row):\n",
    "    return (\n",
    "        row['DIQ010'] == 1 and\n",
    "        pd.notnull(row['DID040']) and row['DID040'] < 30 and\n",
    "        row['DIQ050'] == 1 and\n",
    "        (row['DIQ070'] == 2 or pd.isnull(row['DIQ070']))\n",
    "    )\n",
    "\n",
    "# Flag and remove likely type 1 cases\n",
    "df['likely_type1'] = df.apply(is_likely_type1, axis=1)\n",
    "print(f\"Likely Type 1 cases flagged: {df['likely_type1'].sum()}\")\n",
    "\n",
    "# Keep everyone except those flagged\n",
    "df = df[~df['likely_type1']].copy()\n",
    "print(\"Final dataset size after removing likely T1D:\", df.shape[0])"
   ]
  },
  {
   "cell_type": "code",
   "execution_count": 25,
   "id": "f056ff66",
   "metadata": {},
   "outputs": [
    {
     "name": "stdout",
     "output_type": "stream",
     "text": [
      "Number of Type 2 Diabetes cases: 677\n"
     ]
    }
   ],
   "source": [
    "t2d_count = df[df['DIQ010'] == 1].shape[0]\n",
    "print(f\"Number of Type 2 Diabetes cases: {t2d_count}\")"
   ]
  },
  {
   "cell_type": "code",
   "execution_count": 28,
   "id": "5f63250a",
   "metadata": {},
   "outputs": [
    {
     "data": {
      "text/html": [
       "<div>\n",
       "<style scoped>\n",
       "    .dataframe tbody tr th:only-of-type {\n",
       "        vertical-align: middle;\n",
       "    }\n",
       "\n",
       "    .dataframe tbody tr th {\n",
       "        vertical-align: top;\n",
       "    }\n",
       "\n",
       "    .dataframe thead th {\n",
       "        text-align: right;\n",
       "    }\n",
       "</style>\n",
       "<table border=\"1\" class=\"dataframe\">\n",
       "  <thead>\n",
       "    <tr style=\"text-align: right;\">\n",
       "      <th></th>\n",
       "      <th>SEQN</th>\n",
       "      <th>FastingGlucose</th>\n",
       "      <th>FastingInsulin</th>\n",
       "      <th>BUN</th>\n",
       "      <th>SerumCreatinine</th>\n",
       "      <th>ACR</th>\n",
       "      <th>UrineAlbumin</th>\n",
       "      <th>UrineCreatinine</th>\n",
       "      <th>EverSmoked100</th>\n",
       "      <th>CurrentSmoker</th>\n",
       "      <th>...</th>\n",
       "      <th>DrinkFrequency</th>\n",
       "      <th>AvgDrinksPerDay</th>\n",
       "      <th>Gender</th>\n",
       "      <th>Age</th>\n",
       "      <th>Education</th>\n",
       "      <th>IncomeToPovertyRatio</th>\n",
       "      <th>HasDiabetes</th>\n",
       "      <th>DID040</th>\n",
       "      <th>DIQ050</th>\n",
       "      <th>DIQ070</th>\n",
       "    </tr>\n",
       "  </thead>\n",
       "  <tbody>\n",
       "    <tr>\n",
       "      <th>count</th>\n",
       "      <td>4291.000000</td>\n",
       "      <td>4033.000000</td>\n",
       "      <td>3943.000000</td>\n",
       "      <td>3952.000000</td>\n",
       "      <td>3954.000000</td>\n",
       "      <td>4192.000000</td>\n",
       "      <td>4192.000000</td>\n",
       "      <td>4192.000000</td>\n",
       "      <td>4291.000000</td>\n",
       "      <td>1760.000000</td>\n",
       "      <td>...</td>\n",
       "      <td>3635.000000</td>\n",
       "      <td>2827.000000</td>\n",
       "      <td>4291.000000</td>\n",
       "      <td>4291.000000</td>\n",
       "      <td>4109.000000</td>\n",
       "      <td>3687.000000</td>\n",
       "      <td>4291.000000</td>\n",
       "      <td>676.000000</td>\n",
       "      <td>677.000000</td>\n",
       "      <td>1118.000000</td>\n",
       "    </tr>\n",
       "    <tr>\n",
       "      <th>mean</th>\n",
       "      <td>117168.010254</td>\n",
       "      <td>112.488222</td>\n",
       "      <td>14.982594</td>\n",
       "      <td>14.713310</td>\n",
       "      <td>0.892999</td>\n",
       "      <td>53.618001</td>\n",
       "      <td>55.853986</td>\n",
       "      <td>137.316555</td>\n",
       "      <td>1.594267</td>\n",
       "      <td>2.213068</td>\n",
       "      <td>...</td>\n",
       "      <td>4.852820</td>\n",
       "      <td>3.592855</td>\n",
       "      <td>1.519692</td>\n",
       "      <td>49.412025</td>\n",
       "      <td>3.529569</td>\n",
       "      <td>2.559729</td>\n",
       "      <td>1.842228</td>\n",
       "      <td>62.538462</td>\n",
       "      <td>1.722304</td>\n",
       "      <td>1.531306</td>\n",
       "    </tr>\n",
       "    <tr>\n",
       "      <th>std</th>\n",
       "      <td>4497.777159</td>\n",
       "      <td>37.122978</td>\n",
       "      <td>24.039773</td>\n",
       "      <td>6.008098</td>\n",
       "      <td>0.519293</td>\n",
       "      <td>363.859963</td>\n",
       "      <td>335.649990</td>\n",
       "      <td>86.044812</td>\n",
       "      <td>0.523708</td>\n",
       "      <td>0.921939</td>\n",
       "      <td>...</td>\n",
       "      <td>3.499912</td>\n",
       "      <td>32.514651</td>\n",
       "      <td>0.499670</td>\n",
       "      <td>18.306275</td>\n",
       "      <td>1.211320</td>\n",
       "      <td>1.616804</td>\n",
       "      <td>0.364570</td>\n",
       "      <td>109.600041</td>\n",
       "      <td>0.448194</td>\n",
       "      <td>0.591195</td>\n",
       "    </tr>\n",
       "    <tr>\n",
       "      <th>min</th>\n",
       "      <td>109271.000000</td>\n",
       "      <td>47.000000</td>\n",
       "      <td>0.710000</td>\n",
       "      <td>2.000000</td>\n",
       "      <td>0.300000</td>\n",
       "      <td>1.040000</td>\n",
       "      <td>0.210000</td>\n",
       "      <td>7.000000</td>\n",
       "      <td>1.000000</td>\n",
       "      <td>1.000000</td>\n",
       "      <td>...</td>\n",
       "      <td>0.000000</td>\n",
       "      <td>1.000000</td>\n",
       "      <td>1.000000</td>\n",
       "      <td>18.000000</td>\n",
       "      <td>1.000000</td>\n",
       "      <td>0.000000</td>\n",
       "      <td>1.000000</td>\n",
       "      <td>9.000000</td>\n",
       "      <td>1.000000</td>\n",
       "      <td>1.000000</td>\n",
       "    </tr>\n",
       "    <tr>\n",
       "      <th>25%</th>\n",
       "      <td>113321.000000</td>\n",
       "      <td>95.000000</td>\n",
       "      <td>6.140000</td>\n",
       "      <td>11.000000</td>\n",
       "      <td>0.700000</td>\n",
       "      <td>4.830000</td>\n",
       "      <td>5.200000</td>\n",
       "      <td>74.000000</td>\n",
       "      <td>1.000000</td>\n",
       "      <td>1.000000</td>\n",
       "      <td>...</td>\n",
       "      <td>1.000000</td>\n",
       "      <td>1.000000</td>\n",
       "      <td>1.000000</td>\n",
       "      <td>33.500000</td>\n",
       "      <td>3.000000</td>\n",
       "      <td>1.180000</td>\n",
       "      <td>2.000000</td>\n",
       "      <td>40.000000</td>\n",
       "      <td>1.000000</td>\n",
       "      <td>1.000000</td>\n",
       "    </tr>\n",
       "    <tr>\n",
       "      <th>50%</th>\n",
       "      <td>117230.000000</td>\n",
       "      <td>103.000000</td>\n",
       "      <td>9.960000</td>\n",
       "      <td>14.000000</td>\n",
       "      <td>0.830000</td>\n",
       "      <td>7.590000</td>\n",
       "      <td>9.600000</td>\n",
       "      <td>123.000000</td>\n",
       "      <td>2.000000</td>\n",
       "      <td>3.000000</td>\n",
       "      <td>...</td>\n",
       "      <td>5.000000</td>\n",
       "      <td>2.000000</td>\n",
       "      <td>2.000000</td>\n",
       "      <td>50.000000</td>\n",
       "      <td>4.000000</td>\n",
       "      <td>2.190000</td>\n",
       "      <td>2.000000</td>\n",
       "      <td>50.000000</td>\n",
       "      <td>2.000000</td>\n",
       "      <td>2.000000</td>\n",
       "    </tr>\n",
       "    <tr>\n",
       "      <th>75%</th>\n",
       "      <td>121070.000000</td>\n",
       "      <td>114.000000</td>\n",
       "      <td>16.485000</td>\n",
       "      <td>17.000000</td>\n",
       "      <td>0.990000</td>\n",
       "      <td>14.552500</td>\n",
       "      <td>19.925000</td>\n",
       "      <td>183.000000</td>\n",
       "      <td>2.000000</td>\n",
       "      <td>3.000000</td>\n",
       "      <td>...</td>\n",
       "      <td>8.000000</td>\n",
       "      <td>3.000000</td>\n",
       "      <td>2.000000</td>\n",
       "      <td>64.000000</td>\n",
       "      <td>4.000000</td>\n",
       "      <td>4.095000</td>\n",
       "      <td>2.000000</td>\n",
       "      <td>59.000000</td>\n",
       "      <td>2.000000</td>\n",
       "      <td>2.000000</td>\n",
       "    </tr>\n",
       "    <tr>\n",
       "      <th>max</th>\n",
       "      <td>124822.000000</td>\n",
       "      <td>421.000000</td>\n",
       "      <td>512.500000</td>\n",
       "      <td>79.000000</td>\n",
       "      <td>14.970000</td>\n",
       "      <td>9404.760000</td>\n",
       "      <td>8080.000000</td>\n",
       "      <td>739.000000</td>\n",
       "      <td>9.000000</td>\n",
       "      <td>3.000000</td>\n",
       "      <td>...</td>\n",
       "      <td>10.000000</td>\n",
       "      <td>999.000000</td>\n",
       "      <td>2.000000</td>\n",
       "      <td>80.000000</td>\n",
       "      <td>9.000000</td>\n",
       "      <td>5.000000</td>\n",
       "      <td>2.000000</td>\n",
       "      <td>999.000000</td>\n",
       "      <td>2.000000</td>\n",
       "      <td>9.000000</td>\n",
       "    </tr>\n",
       "  </tbody>\n",
       "</table>\n",
       "<p>8 rows × 21 columns</p>\n",
       "</div>"
      ],
      "text/plain": [
       "                SEQN  FastingGlucose  FastingInsulin          BUN  \\\n",
       "count    4291.000000     4033.000000     3943.000000  3952.000000   \n",
       "mean   117168.010254      112.488222       14.982594    14.713310   \n",
       "std      4497.777159       37.122978       24.039773     6.008098   \n",
       "min    109271.000000       47.000000        0.710000     2.000000   \n",
       "25%    113321.000000       95.000000        6.140000    11.000000   \n",
       "50%    117230.000000      103.000000        9.960000    14.000000   \n",
       "75%    121070.000000      114.000000       16.485000    17.000000   \n",
       "max    124822.000000      421.000000      512.500000    79.000000   \n",
       "\n",
       "       SerumCreatinine          ACR  UrineAlbumin  UrineCreatinine  \\\n",
       "count      3954.000000  4192.000000   4192.000000      4192.000000   \n",
       "mean          0.892999    53.618001     55.853986       137.316555   \n",
       "std           0.519293   363.859963    335.649990        86.044812   \n",
       "min           0.300000     1.040000      0.210000         7.000000   \n",
       "25%           0.700000     4.830000      5.200000        74.000000   \n",
       "50%           0.830000     7.590000      9.600000       123.000000   \n",
       "75%           0.990000    14.552500     19.925000       183.000000   \n",
       "max          14.970000  9404.760000   8080.000000       739.000000   \n",
       "\n",
       "       EverSmoked100  CurrentSmoker  ...  DrinkFrequency  AvgDrinksPerDay  \\\n",
       "count    4291.000000    1760.000000  ...     3635.000000      2827.000000   \n",
       "mean        1.594267       2.213068  ...        4.852820         3.592855   \n",
       "std         0.523708       0.921939  ...        3.499912        32.514651   \n",
       "min         1.000000       1.000000  ...        0.000000         1.000000   \n",
       "25%         1.000000       1.000000  ...        1.000000         1.000000   \n",
       "50%         2.000000       3.000000  ...        5.000000         2.000000   \n",
       "75%         2.000000       3.000000  ...        8.000000         3.000000   \n",
       "max         9.000000       3.000000  ...       10.000000       999.000000   \n",
       "\n",
       "            Gender          Age    Education  IncomeToPovertyRatio  \\\n",
       "count  4291.000000  4291.000000  4109.000000           3687.000000   \n",
       "mean      1.519692    49.412025     3.529569              2.559729   \n",
       "std       0.499670    18.306275     1.211320              1.616804   \n",
       "min       1.000000    18.000000     1.000000              0.000000   \n",
       "25%       1.000000    33.500000     3.000000              1.180000   \n",
       "50%       2.000000    50.000000     4.000000              2.190000   \n",
       "75%       2.000000    64.000000     4.000000              4.095000   \n",
       "max       2.000000    80.000000     9.000000              5.000000   \n",
       "\n",
       "       HasDiabetes      DID040      DIQ050       DIQ070  \n",
       "count  4291.000000  676.000000  677.000000  1118.000000  \n",
       "mean      1.842228   62.538462    1.722304     1.531306  \n",
       "std       0.364570  109.600041    0.448194     0.591195  \n",
       "min       1.000000    9.000000    1.000000     1.000000  \n",
       "25%       2.000000   40.000000    1.000000     1.000000  \n",
       "50%       2.000000   50.000000    2.000000     2.000000  \n",
       "75%       2.000000   59.000000    2.000000     2.000000  \n",
       "max       2.000000  999.000000    2.000000     9.000000  \n",
       "\n",
       "[8 rows x 21 columns]"
      ]
     },
     "execution_count": 28,
     "metadata": {},
     "output_type": "execute_result"
    }
   ],
   "source": [
    "df.describe()"
   ]
  },
  {
   "cell_type": "code",
   "execution_count": 27,
   "id": "74b81b20",
   "metadata": {},
   "outputs": [],
   "source": [
    "df = df.rename(columns={\n",
    "    'LBXGLU': 'FastingGlucose',\n",
    "    'LBXIN': 'FastingInsulin',\n",
    "    'LBXSBU': 'BUN',\n",
    "    'LBXSCR': 'SerumCreatinine',\n",
    "    'URDACT': 'ACR',\n",
    "    'URXUMA': 'UrineAlbumin',\n",
    "    'URXUCR': 'UrineCreatinine',\n",
    "    'SMQ020': 'EverSmoked100',\n",
    "    'SMQ040': 'CurrentSmoker',\n",
    "    'ALQ111': 'EverDrank',\n",
    "    'ALQ121': 'DrinkFrequency',\n",
    "    'ALQ130': 'AvgDrinksPerDay',\n",
    "    'RIAGENDR': 'Gender',\n",
    "    'RIDAGEYR': 'Age',\n",
    "    'DMDEDUC2': 'Education',\n",
    "    'INDFMPIR': 'IncomeToPovertyRatio',\n",
    "    'DIQ010': 'HasDiabetes'\n",
    "})"
   ]
  },
  {
   "cell_type": "code",
   "execution_count": 29,
   "id": "e8414c2d",
   "metadata": {},
   "outputs": [
    {
     "data": {
      "text/plain": [
       "(4291, 22)"
      ]
     },
     "execution_count": 29,
     "metadata": {},
     "output_type": "execute_result"
    }
   ],
   "source": [
    "df.shape"
   ]
  },
  {
   "cell_type": "code",
   "execution_count": 31,
   "id": "9ca7fddb",
   "metadata": {},
   "outputs": [
    {
     "name": "stdout",
     "output_type": "stream",
     "text": [
      "Number of participants with Type 2 Diabetes: 677\n"
     ]
    }
   ],
   "source": [
    "df_t2d = df[df['HasDiabetes'] == 1].copy()\n",
    "print(f\"Number of participants with Type 2 Diabetes: {df_t2d.shape[0]}\")"
   ]
  },
  {
   "cell_type": "code",
   "execution_count": 32,
   "id": "cbc1cf04",
   "metadata": {},
   "outputs": [
    {
     "data": {
      "text/plain": [
       "(677, 23)"
      ]
     },
     "execution_count": 32,
     "metadata": {},
     "output_type": "execute_result"
    }
   ],
   "source": [
    "df_t2d['T2D'] = 1 \n",
    "df_t2d.shape"
   ]
  },
  {
   "cell_type": "markdown",
   "id": "342ac926",
   "metadata": {},
   "source": [
    "### Handeling Missing Values"
   ]
  },
  {
   "cell_type": "code",
   "execution_count": 33,
   "id": "6fe375b5",
   "metadata": {},
   "outputs": [
    {
     "name": "stdout",
     "output_type": "stream",
     "text": [
      "\n",
      "Missing data summary:\n",
      "                      Missing Values  Missing %\n",
      "FastingGlucose                    36       5.32\n",
      "FastingInsulin                    52       7.68\n",
      "BUN                               52       7.68\n",
      "SerumCreatinine                   52       7.68\n",
      "ACR                               25       3.69\n",
      "UrineAlbumin                      25       3.69\n",
      "UrineCreatinine                   25       3.69\n",
      "CurrentSmoker                    335      49.48\n",
      "EverDrank                         46       6.79\n",
      "DrinkFrequency                   106      15.66\n",
      "AvgDrinksPerDay                  322      47.56\n",
      "Education                          1       0.15\n",
      "IncomeToPovertyRatio             106      15.66\n",
      "DID040                             1       0.15\n"
     ]
    }
   ],
   "source": [
    "missing_values = df_t2d.isnull().sum()\n",
    "missing_percent = (missing_values / len(df_t2d)) * 100\n",
    "missing_df = pd.DataFrame({\n",
    "    'Missing Values': missing_values,\n",
    "    'Missing %': missing_percent.round(2)\n",
    "})\n",
    "print(\"\\nMissing data summary:\")\n",
    "print(missing_df[missing_df['Missing Values'] > 0])"
   ]
  },
  {
   "cell_type": "code",
   "execution_count": 34,
   "id": "d0e6904a",
   "metadata": {},
   "outputs": [
    {
     "data": {
      "text/plain": [
       "EverDrank  DrinkFrequency  AvgDrinksPerDay\n",
       "1.0        0.0             NaN                216\n",
       "2.0        NaN             NaN                 60\n",
       "NaN        NaN             NaN                 46\n",
       "1.0        10.0            1.0                 43\n",
       "           9.0             1.0                 33\n",
       "                                             ... \n",
       "           4.0             7.0                  1\n",
       "           3.0             8.0                  1\n",
       "                           5.0                  1\n",
       "           2.0             6.0                  1\n",
       "           6.0             4.0                  1\n",
       "Length: 69, dtype: int64"
      ]
     },
     "execution_count": 34,
     "metadata": {},
     "output_type": "execute_result"
    }
   ],
   "source": [
    "df_t2d[['EverDrank', 'DrinkFrequency', 'AvgDrinksPerDay']].value_counts(dropna=False)"
   ]
  },
  {
   "cell_type": "code",
   "execution_count": 35,
   "id": "afe5969d",
   "metadata": {},
   "outputs": [],
   "source": [
    "# Set alcohol frequency/amount to 0 for those who never drank\n",
    "df_t2d.loc[df_t2d['EverDrank'] == 2, ['DrinkFrequency', 'AvgDrinksPerDay']] = 0\n",
    "\n",
    "# Set drink amount to 0 for rare drinkers (e.g., frequency 0)\n",
    "df_t2d.loc[(df_t2d['EverDrank'] == 1) & (df_t2d['DrinkFrequency'] == 0), 'AvgDrinksPerDay'] = 0\n",
    "\n",
    "# Fill truly missing EverDrank with \"non-drinker\" (or 0)\n",
    "df_t2d['EverDrank'] = df_t2d['EverDrank'].fillna(2)\n",
    "df_t2d['DrinkFrequency'] = df_t2d['DrinkFrequency'].fillna(0)\n",
    "df_t2d['AvgDrinksPerDay'] = df_t2d['AvgDrinksPerDay'].fillna(0)"
   ]
  },
  {
   "cell_type": "code",
   "execution_count": 36,
   "id": "f3b2755e",
   "metadata": {},
   "outputs": [
    {
     "data": {
      "image/png": "[encoded data removed]",
      "text/plain": [
       "<Figure size 600x400 with 1 Axes>"
      ]
     },
     "metadata": {},
     "output_type": "display_data"
    }
   ],
   "source": [
    "df_t2d['EverDrank_Label'] = df_t2d['EverDrank'].map({1: 'Drinks Alcohol', 2: 'Does Not Drink'})\n",
    "drink_counts = df_t2d['EverDrank_Label'].value_counts()\n",
    "plt.figure(figsize=(6, 4))\n",
    "drink_counts.plot(kind='bar', color=['skyblue', 'salmon'])\n",
    "\n",
    "plt.title('Alcohol Consumption Among Type 2 Diabetes Participants')\n",
    "plt.ylabel('Number of Participants')\n",
    "plt.xlabel('Drinking Status')\n",
    "plt.xticks(rotation=0)\n",
    "plt.tight_layout()\n",
    "plt.grid(axis='y', linestyle='--', alpha=0.7)\n",
    "plt.show()"
   ]
  },
  {
   "cell_type": "code",
   "execution_count": 37,
   "id": "32c26501",
   "metadata": {},
   "outputs": [
    {
     "name": "stdout",
     "output_type": "stream",
     "text": [
      "\n",
      "Missing data summary:\n",
      "                      Missing Values  Missing %\n",
      "FastingGlucose                    36       5.32\n",
      "FastingInsulin                    52       7.68\n",
      "BUN                               52       7.68\n",
      "SerumCreatinine                   52       7.68\n",
      "ACR                               25       3.69\n",
      "UrineAlbumin                      25       3.69\n",
      "UrineCreatinine                   25       3.69\n",
      "CurrentSmoker                    335      49.48\n",
      "Education                          1       0.15\n",
      "IncomeToPovertyRatio             106      15.66\n",
      "DID040                             1       0.15\n"
     ]
    }
   ],
   "source": [
    "missing_values = df_t2d.isnull().sum()\n",
    "missing_percent = (missing_values / len(df_t2d)) * 100\n",
    "missing_df = pd.DataFrame({\n",
    "    'Missing Values': missing_values,\n",
    "    'Missing %': missing_percent.round(2)\n",
    "})\n",
    "print(\"\\nMissing data summary:\")\n",
    "print(missing_df[missing_df['Missing Values'] > 0])"
   ]
  },
  {
   "cell_type": "code",
   "execution_count": 38,
   "id": "94e16557",
   "metadata": {},
   "outputs": [],
   "source": [
    "df_t2d['FastingGlucose'] = df_t2d['FastingGlucose'].fillna(df_t2d['FastingGlucose'].median())"
   ]
  },
  {
   "cell_type": "code",
   "execution_count": 39,
   "id": "e3ea65b0",
   "metadata": {},
   "outputs": [],
   "source": [
    "df_t2d['FastingInsulin'] = df_t2d['FastingInsulin'].fillna(df_t2d['FastingInsulin'].median())"
   ]
  },
  {
   "cell_type": "code",
   "execution_count": 40,
   "id": "e0b6f75f",
   "metadata": {},
   "outputs": [],
   "source": [
    "df_t2d['BUN'] = df_t2d['BUN'].fillna(df_t2d['BUN'].median())\n",
    "df_t2d['SerumCreatinine'] = df_t2d['SerumCreatinine'].fillna(df_t2d['SerumCreatinine'].median())"
   ]
  },
  {
   "cell_type": "code",
   "execution_count": 41,
   "id": "df053bde",
   "metadata": {},
   "outputs": [],
   "source": [
    "df_t2d['ACR'] = df_t2d['ACR'].fillna(df_t2d['ACR'].median())"
   ]
  },
  {
   "cell_type": "markdown",
   "id": "751bca65",
   "metadata": {},
   "source": [
    "ACR (Urine Albumin-to-Creatinine Ratio) is calculated using Urine Albumin and Urine Creatinine."
   ]
  },
  {
   "cell_type": "code",
   "execution_count": 42,
   "id": "b6f7c4d9",
   "metadata": {},
   "outputs": [],
   "source": [
    "df_t2d.drop(columns=['UrineAlbumin', 'UrineCreatinine'], inplace=True)"
   ]
  },
  {
   "cell_type": "code",
   "execution_count": 43,
   "id": "6a54b51f",
   "metadata": {},
   "outputs": [],
   "source": [
    "df_t2d.loc[(df_t2d['CurrentSmoker'].isnull()) & (df_t2d['EverSmoked100'] == 2), 'CurrentSmoker'] = 'Not at all'\n",
    "df_t2d['CurrentSmoker'] = df_t2d['CurrentSmoker'].fillna('Missing')"
   ]
  },
  {
   "cell_type": "code",
   "execution_count": 44,
   "id": "d0c05a8b",
   "metadata": {},
   "outputs": [],
   "source": [
    "df_t2d['Education'] = df_t2d['Education'].fillna(df_t2d['Education'].mode()[0])"
   ]
  },
  {
   "cell_type": "code",
   "execution_count": 45,
   "id": "d77b600b",
   "metadata": {},
   "outputs": [],
   "source": [
    "df_t2d['IncomeMissing'] = df_t2d['IncomeToPovertyRatio'].isnull().astype(int)\n",
    "df_t2d['IncomeToPovertyRatio'] = df_t2d['IncomeToPovertyRatio'].fillna(df_t2d['IncomeToPovertyRatio'].median())"
   ]
  },
  {
   "cell_type": "markdown",
   "id": "bbc96605",
   "metadata": {},
   "source": [
    "We already kept patients over 30 that have diabetes so I'm going to drop DID040."
   ]
  },
  {
   "cell_type": "code",
   "execution_count": 46,
   "id": "98a10445",
   "metadata": {},
   "outputs": [],
   "source": [
    "df_t2d.drop(columns=['DID040'], inplace=True)"
   ]
  },
  {
   "cell_type": "code",
   "execution_count": 47,
   "id": "8df360b0",
   "metadata": {},
   "outputs": [
    {
     "name": "stdout",
     "output_type": "stream",
     "text": [
      "\n",
      "Missing data summary:\n",
      "Empty DataFrame\n",
      "Columns: [Missing Values, Missing %]\n",
      "Index: []\n"
     ]
    }
   ],
   "source": [
    "missing_values = df_t2d.isnull().sum()\n",
    "missing_percent = (missing_values / len(df_t2d)) * 100\n",
    "missing_df = pd.DataFrame({\n",
    "    'Missing Values': missing_values,\n",
    "    'Missing %': missing_percent.round(2)\n",
    "})\n",
    "print(\"\\nMissing data summary:\")\n",
    "print(missing_df[missing_df['Missing Values'] > 0])"
   ]
  },
  {
   "cell_type": "markdown",
   "id": "8cfd203a",
   "metadata": {},
   "source": [
    "### Feature Engineering"
   ]
  },
  {
   "cell_type": "code",
   "execution_count": 48,
   "id": "c509a25f",
   "metadata": {},
   "outputs": [],
   "source": [
    "df_t2d['HOMA_B'] = (20 * df_t2d['FastingInsulin']) / (df_t2d['FastingGlucose'] - 3.5)"
   ]
  },
  {
   "cell_type": "markdown",
   "id": "0f372f62",
   "metadata": {},
   "source": [
    "We create other features if we see it fit."
   ]
  },
  {
   "cell_type": "code",
   "execution_count": 50,
   "id": "3071edd2",
   "metadata": {},
   "outputs": [
    {
     "name": "stdout",
     "output_type": "stream",
     "text": [
      "Index(['CurrentSmoker', 'EverDrank_Label'], dtype='object')\n"
     ]
    }
   ],
   "source": [
    "categorical_cols = df_t2d.select_dtypes(include='object').columns\n",
    "print(categorical_cols)\n",
    "\n",
    "df_t2d = pd.get_dummies(df_t2d, columns=categorical_cols, drop_first=True)"
   ]
  },
  {
   "cell_type": "code",
   "execution_count": 57,
   "id": "8b30e5f7",
   "metadata": {},
   "outputs": [
    {
     "data": {
      "text/plain": [
       "count    677.000000\n",
       "mean       2.330990\n",
       "std        1.441264\n",
       "min        0.000000\n",
       "25%        1.270000\n",
       "50%        1.930000\n",
       "75%        3.160000\n",
       "max        5.000000\n",
       "Name: IncomeToPovertyRatio, dtype: float64"
      ]
     },
     "execution_count": 57,
     "metadata": {},
     "output_type": "execute_result"
    }
   ],
   "source": [
    "df_t2d['IncomeToPovertyRatio'].describe()"
   ]
  },
  {
   "cell_type": "code",
   "execution_count": 53,
   "id": "74933368",
   "metadata": {},
   "outputs": [],
   "source": [
    "scale_cols = ['FastingGlucose', 'FastingInsulin', 'BUN', 'SerumCreatinine', 'ACR', 'HOMA_B']\n",
    "\n",
    "scaler = StandardScaler()\n",
    "df_t2d[scale_cols] = scaler.fit_transform(df_t2d[scale_cols])"
   ]
  },
  {
   "cell_type": "code",
   "execution_count": 54,
   "id": "2664835d",
   "metadata": {},
   "outputs": [
    {
     "name": "stdout",
     "output_type": "stream",
     "text": [
      "SEQN                              float64\n",
      "FastingGlucose                    float64\n",
      "FastingInsulin                    float64\n",
      "BUN                               float64\n",
      "SerumCreatinine                   float64\n",
      "ACR                               float64\n",
      "EverSmoked100                     float64\n",
      "EverDrank                         float64\n",
      "DrinkFrequency                    float64\n",
      "AvgDrinksPerDay                   float64\n",
      "Gender                            float64\n",
      "Age                               float64\n",
      "Education                         float64\n",
      "IncomeToPovertyRatio              float64\n",
      "HasDiabetes                       float64\n",
      "DIQ050                            float64\n",
      "DIQ070                            float64\n",
      "likely_type1                         bool\n",
      "T2D                                 int64\n",
      "IncomeMissing                       int64\n",
      "HOMA_B                            float64\n",
      "CurrentSmoker_2.0                   uint8\n",
      "CurrentSmoker_3.0                   uint8\n",
      "CurrentSmoker_Missing               uint8\n",
      "CurrentSmoker_Not at all            uint8\n",
      "EverDrank_Label_Drinks Alcohol      uint8\n",
      "dtype: object\n"
     ]
    }
   ],
   "source": [
    "print(df_t2d.dtypes)"
   ]
  },
  {
   "cell_type": "code",
   "execution_count": 59,
   "id": "4d8c7421",
   "metadata": {},
   "outputs": [
    {
     "data": {
      "text/html": [
       "<div>\n",
       "<style scoped>\n",
       "    .dataframe tbody tr th:only-of-type {\n",
       "        vertical-align: middle;\n",
       "    }\n",
       "\n",
       "    .dataframe tbody tr th {\n",
       "        vertical-align: top;\n",
       "    }\n",
       "\n",
       "    .dataframe thead th {\n",
       "        text-align: right;\n",
       "    }\n",
       "</style>\n",
       "<table border=\"1\" class=\"dataframe\">\n",
       "  <thead>\n",
       "    <tr style=\"text-align: right;\">\n",
       "      <th></th>\n",
       "      <th>SEQN</th>\n",
       "      <th>FastingGlucose</th>\n",
       "      <th>FastingInsulin</th>\n",
       "      <th>BUN</th>\n",
       "      <th>SerumCreatinine</th>\n",
       "      <th>ACR</th>\n",
       "      <th>EverSmoked100</th>\n",
       "      <th>EverDrank</th>\n",
       "      <th>DrinkFrequency</th>\n",
       "      <th>AvgDrinksPerDay</th>\n",
       "      <th>...</th>\n",
       "      <th>DIQ050</th>\n",
       "      <th>DIQ070</th>\n",
       "      <th>T2D</th>\n",
       "      <th>IncomeMissing</th>\n",
       "      <th>HOMA_B</th>\n",
       "      <th>CurrentSmoker_2.0</th>\n",
       "      <th>CurrentSmoker_3.0</th>\n",
       "      <th>CurrentSmoker_Missing</th>\n",
       "      <th>CurrentSmoker_Not at all</th>\n",
       "      <th>EverDrank_Label_Drinks Alcohol</th>\n",
       "    </tr>\n",
       "  </thead>\n",
       "  <tbody>\n",
       "    <tr>\n",
       "      <th>count</th>\n",
       "      <td>677.000000</td>\n",
       "      <td>6.770000e+02</td>\n",
       "      <td>6.770000e+02</td>\n",
       "      <td>6.770000e+02</td>\n",
       "      <td>6.770000e+02</td>\n",
       "      <td>6.770000e+02</td>\n",
       "      <td>677.000000</td>\n",
       "      <td>677.000000</td>\n",
       "      <td>677.000000</td>\n",
       "      <td>677.000000</td>\n",
       "      <td>...</td>\n",
       "      <td>677.000000</td>\n",
       "      <td>677.000000</td>\n",
       "      <td>677.0</td>\n",
       "      <td>677.000000</td>\n",
       "      <td>6.770000e+02</td>\n",
       "      <td>677.000000</td>\n",
       "      <td>677.000000</td>\n",
       "      <td>677.000000</td>\n",
       "      <td>677.000000</td>\n",
       "      <td>677.000000</td>\n",
       "    </tr>\n",
       "    <tr>\n",
       "      <th>mean</th>\n",
       "      <td>117359.988183</td>\n",
       "      <td>-9.052335e-17</td>\n",
       "      <td>1.206978e-16</td>\n",
       "      <td>-1.134822e-16</td>\n",
       "      <td>-1.102023e-16</td>\n",
       "      <td>-2.099092e-17</td>\n",
       "      <td>1.512555</td>\n",
       "      <td>1.156573</td>\n",
       "      <td>3.559823</td>\n",
       "      <td>1.323486</td>\n",
       "      <td>...</td>\n",
       "      <td>1.722304</td>\n",
       "      <td>1.258493</td>\n",
       "      <td>1.0</td>\n",
       "      <td>0.156573</td>\n",
       "      <td>2.099092e-17</td>\n",
       "      <td>0.033973</td>\n",
       "      <td>0.338257</td>\n",
       "      <td>0.002954</td>\n",
       "      <td>0.491876</td>\n",
       "      <td>0.843427</td>\n",
       "    </tr>\n",
       "    <tr>\n",
       "      <th>std</th>\n",
       "      <td>4649.656019</td>\n",
       "      <td>1.000739e+00</td>\n",
       "      <td>1.000739e+00</td>\n",
       "      <td>1.000739e+00</td>\n",
       "      <td>1.000739e+00</td>\n",
       "      <td>1.000739e+00</td>\n",
       "      <td>0.614354</td>\n",
       "      <td>0.363667</td>\n",
       "      <td>3.905850</td>\n",
       "      <td>2.141502</td>\n",
       "      <td>...</td>\n",
       "      <td>0.448194</td>\n",
       "      <td>0.524212</td>\n",
       "      <td>0.0</td>\n",
       "      <td>0.363667</td>\n",
       "      <td>1.000739e+00</td>\n",
       "      <td>0.181295</td>\n",
       "      <td>0.473466</td>\n",
       "      <td>0.054312</td>\n",
       "      <td>0.500304</td>\n",
       "      <td>0.363667</td>\n",
       "    </tr>\n",
       "    <tr>\n",
       "      <th>min</th>\n",
       "      <td>109274.000000</td>\n",
       "      <td>-1.745589e+00</td>\n",
       "      <td>-5.111909e-01</td>\n",
       "      <td>-1.645338e+00</td>\n",
       "      <td>-6.953589e-01</td>\n",
       "      <td>-2.326467e-01</td>\n",
       "      <td>1.000000</td>\n",
       "      <td>1.000000</td>\n",
       "      <td>0.000000</td>\n",
       "      <td>0.000000</td>\n",
       "      <td>...</td>\n",
       "      <td>1.000000</td>\n",
       "      <td>1.000000</td>\n",
       "      <td>1.0</td>\n",
       "      <td>0.000000</td>\n",
       "      <td>-4.329206e-01</td>\n",
       "      <td>0.000000</td>\n",
       "      <td>0.000000</td>\n",
       "      <td>0.000000</td>\n",
       "      <td>0.000000</td>\n",
       "      <td>0.000000</td>\n",
       "    </tr>\n",
       "    <tr>\n",
       "      <th>25%</th>\n",
       "      <td>113262.000000</td>\n",
       "      <td>-6.524511e-01</td>\n",
       "      <td>-3.469068e-01</td>\n",
       "      <td>-5.718780e-01</td>\n",
       "      <td>-3.218238e-01</td>\n",
       "      <td>-2.255894e-01</td>\n",
       "      <td>1.000000</td>\n",
       "      <td>1.000000</td>\n",
       "      <td>0.000000</td>\n",
       "      <td>0.000000</td>\n",
       "      <td>...</td>\n",
       "      <td>1.000000</td>\n",
       "      <td>1.000000</td>\n",
       "      <td>1.0</td>\n",
       "      <td>0.000000</td>\n",
       "      <td>-3.097987e-01</td>\n",
       "      <td>0.000000</td>\n",
       "      <td>0.000000</td>\n",
       "      <td>0.000000</td>\n",
       "      <td>0.000000</td>\n",
       "      <td>1.000000</td>\n",
       "    </tr>\n",
       "    <tr>\n",
       "      <th>50%</th>\n",
       "      <td>117310.000000</td>\n",
       "      <td>-2.935102e-01</td>\n",
       "      <td>-2.492076e-01</td>\n",
       "      <td>-2.140578e-01</td>\n",
       "      <td>-1.661842e-01</td>\n",
       "      <td>-2.167054e-01</td>\n",
       "      <td>1.000000</td>\n",
       "      <td>1.000000</td>\n",
       "      <td>2.000000</td>\n",
       "      <td>1.000000</td>\n",
       "      <td>...</td>\n",
       "      <td>2.000000</td>\n",
       "      <td>1.000000</td>\n",
       "      <td>1.0</td>\n",
       "      <td>0.000000</td>\n",
       "      <td>-2.110643e-01</td>\n",
       "      <td>0.000000</td>\n",
       "      <td>0.000000</td>\n",
       "      <td>0.000000</td>\n",
       "      <td>0.000000</td>\n",
       "      <td>1.000000</td>\n",
       "    </tr>\n",
       "    <tr>\n",
       "      <th>75%</th>\n",
       "      <td>121644.000000</td>\n",
       "      <td>2.775321e-01</td>\n",
       "      <td>-5.816511e-02</td>\n",
       "      <td>2.630357e-01</td>\n",
       "      <td>4.133531e-02</td>\n",
       "      <td>-1.703528e-01</td>\n",
       "      <td>2.000000</td>\n",
       "      <td>1.000000</td>\n",
       "      <td>7.000000</td>\n",
       "      <td>2.000000</td>\n",
       "      <td>...</td>\n",
       "      <td>2.000000</td>\n",
       "      <td>1.000000</td>\n",
       "      <td>1.0</td>\n",
       "      <td>0.000000</td>\n",
       "      <td>-5.604316e-02</td>\n",
       "      <td>0.000000</td>\n",
       "      <td>1.000000</td>\n",
       "      <td>0.000000</td>\n",
       "      <td>1.000000</td>\n",
       "      <td>1.000000</td>\n",
       "    </tr>\n",
       "    <tr>\n",
       "      <th>max</th>\n",
       "      <td>124803.000000</td>\n",
       "      <td>3.964834e+00</td>\n",
       "      <td>1.010484e+01</td>\n",
       "      <td>7.300165e+00</td>\n",
       "      <td>1.446394e+01</td>\n",
       "      <td>1.149074e+01</td>\n",
       "      <td>9.000000</td>\n",
       "      <td>2.000000</td>\n",
       "      <td>10.000000</td>\n",
       "      <td>15.000000</td>\n",
       "      <td>...</td>\n",
       "      <td>2.000000</td>\n",
       "      <td>9.000000</td>\n",
       "      <td>1.0</td>\n",
       "      <td>1.000000</td>\n",
       "      <td>1.179835e+01</td>\n",
       "      <td>1.000000</td>\n",
       "      <td>1.000000</td>\n",
       "      <td>1.000000</td>\n",
       "      <td>1.000000</td>\n",
       "      <td>1.000000</td>\n",
       "    </tr>\n",
       "  </tbody>\n",
       "</table>\n",
       "<p>8 rows × 25 columns</p>\n",
       "</div>"
      ],
      "text/plain": [
       "                SEQN  FastingGlucose  FastingInsulin           BUN  \\\n",
       "count     677.000000    6.770000e+02    6.770000e+02  6.770000e+02   \n",
       "mean   117359.988183   -9.052335e-17    1.206978e-16 -1.134822e-16   \n",
       "std      4649.656019    1.000739e+00    1.000739e+00  1.000739e+00   \n",
       "min    109274.000000   -1.745589e+00   -5.111909e-01 -1.645338e+00   \n",
       "25%    113262.000000   -6.524511e-01   -3.469068e-01 -5.718780e-01   \n",
       "50%    117310.000000   -2.935102e-01   -2.492076e-01 -2.140578e-01   \n",
       "75%    121644.000000    2.775321e-01   -5.816511e-02  2.630357e-01   \n",
       "max    124803.000000    3.964834e+00    1.010484e+01  7.300165e+00   \n",
       "\n",
       "       SerumCreatinine           ACR  EverSmoked100   EverDrank  \\\n",
       "count     6.770000e+02  6.770000e+02     677.000000  677.000000   \n",
       "mean     -1.102023e-16 -2.099092e-17       1.512555    1.156573   \n",
       "std       1.000739e+00  1.000739e+00       0.614354    0.363667   \n",
       "min      -6.953589e-01 -2.326467e-01       1.000000    1.000000   \n",
       "25%      -3.218238e-01 -2.255894e-01       1.000000    1.000000   \n",
       "50%      -1.661842e-01 -2.167054e-01       1.000000    1.000000   \n",
       "75%       4.133531e-02 -1.703528e-01       2.000000    1.000000   \n",
       "max       1.446394e+01  1.149074e+01       9.000000    2.000000   \n",
       "\n",
       "       DrinkFrequency  AvgDrinksPerDay  ...      DIQ050      DIQ070    T2D  \\\n",
       "count      677.000000       677.000000  ...  677.000000  677.000000  677.0   \n",
       "mean         3.559823         1.323486  ...    1.722304    1.258493    1.0   \n",
       "std          3.905850         2.141502  ...    0.448194    0.524212    0.0   \n",
       "min          0.000000         0.000000  ...    1.000000    1.000000    1.0   \n",
       "25%          0.000000         0.000000  ...    1.000000    1.000000    1.0   \n",
       "50%          2.000000         1.000000  ...    2.000000    1.000000    1.0   \n",
       "75%          7.000000         2.000000  ...    2.000000    1.000000    1.0   \n",
       "max         10.000000        15.000000  ...    2.000000    9.000000    1.0   \n",
       "\n",
       "       IncomeMissing        HOMA_B  CurrentSmoker_2.0  CurrentSmoker_3.0  \\\n",
       "count     677.000000  6.770000e+02         677.000000         677.000000   \n",
       "mean        0.156573  2.099092e-17           0.033973           0.338257   \n",
       "std         0.363667  1.000739e+00           0.181295           0.473466   \n",
       "min         0.000000 -4.329206e-01           0.000000           0.000000   \n",
       "25%         0.000000 -3.097987e-01           0.000000           0.000000   \n",
       "50%         0.000000 -2.110643e-01           0.000000           0.000000   \n",
       "75%         0.000000 -5.604316e-02           0.000000           1.000000   \n",
       "max         1.000000  1.179835e+01           1.000000           1.000000   \n",
       "\n",
       "       CurrentSmoker_Missing  CurrentSmoker_Not at all  \\\n",
       "count             677.000000                677.000000   \n",
       "mean                0.002954                  0.491876   \n",
       "std                 0.054312                  0.500304   \n",
       "min                 0.000000                  0.000000   \n",
       "25%                 0.000000                  0.000000   \n",
       "50%                 0.000000                  0.000000   \n",
       "75%                 0.000000                  1.000000   \n",
       "max                 1.000000                  1.000000   \n",
       "\n",
       "       EverDrank_Label_Drinks Alcohol  \n",
       "count                      677.000000  \n",
       "mean                         0.843427  \n",
       "std                          0.363667  \n",
       "min                          0.000000  \n",
       "25%                          1.000000  \n",
       "50%                          1.000000  \n",
       "75%                          1.000000  \n",
       "max                          1.000000  \n",
       "\n",
       "[8 rows x 25 columns]"
      ]
     },
     "execution_count": 59,
     "metadata": {},
     "output_type": "execute_result"
    }
   ],
   "source": [
    "df_t2d.describe()"
   ]
  },
  {
   "cell_type": "markdown",
   "id": "97621c9d",
   "metadata": {},
   "source": [
    "### Unscaling the Features (for now)"
   ]
  },
  {
   "cell_type": "code",
   "execution_count": 63,
   "id": "2d62c7c2",
   "metadata": {},
   "outputs": [],
   "source": [
    "# Inverse transform only the scaled columns\n",
    "df_t2d[scale_cols] = scaler.inverse_transform(df_t2d[scale_cols])"
   ]
  },
  {
   "cell_type": "code",
   "execution_count": 67,
   "id": "5c8f4ee0",
   "metadata": {},
   "outputs": [],
   "source": [
    "df_t2d.to_csv('cleaned_dataset.csv', index=False)"
   ]
  },
  {
   "cell_type": "code",
   "execution_count": null,
   "id": "6a613aa8",
   "metadata": {},
   "outputs": [],
   "source": []
  }
 ],
 "metadata": {
  "kernelspec": {
   "display_name": "Python 3 (ipykernel)",
   "language": "python",
   "name": "python3"
  },
  "language_info": {
   "codemirror_mode": {
    "name": "ipython",
    "version": 3
   },
   "file_extension": ".py",
   "mimetype": "text/x-python",
   "name": "python",
   "nbconvert_exporter": "python",
   "pygments_lexer": "ipython3",
   "version": "3.10.9"
  }
 },
 "nbformat": 4,
 "nbformat_minor": 5
}
