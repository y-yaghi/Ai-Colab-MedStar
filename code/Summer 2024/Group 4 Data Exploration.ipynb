{
 "cells": [
  {
   "cell_type": "markdown",
   "id": "9d9d283a",
   "metadata": {},
   "source": [
    "# Cardiometabolic Correlate and Maternal Health Group 4"
   ]
  },
  {
   "cell_type": "markdown",
   "id": "355272b3",
   "metadata": {},
   "source": [
    "### Omar Barabandi, Ayham Elayan, Zahra Izzi, Yara Yaghi"
   ]
  },
  {
   "cell_type": "code",
   "execution_count": 10,
   "id": "00152b4a",
   "metadata": {},
   "outputs": [],
   "source": [
    "import pandas as pd\n",
    "import matplotlib.pyplot as plt\n",
    "import seaborn as sns "
   ]
  },
  {
   "cell_type": "markdown",
   "id": "ad59a338",
   "metadata": {},
   "source": [
    "### 1. Read the Data"
   ]
  },
  {
   "cell_type": "code",
   "execution_count": 11,
   "id": "28111ca5",
   "metadata": {},
   "outputs": [],
   "source": [
    "dataset = pd.read_csv('synth_New_Diagnosis.csv')"
   ]
  },
  {
   "cell_type": "code",
   "execution_count": 12,
   "id": "e21e0362",
   "metadata": {},
   "outputs": [
    {
     "name": "stdout",
     "output_type": "stream",
     "text": [
      "<class 'pandas.core.frame.DataFrame'>\n",
      "RangeIndex: 1227375 entries, 0 to 1227374\n",
      "Data columns (total 10 columns):\n",
      " #   Column         Non-Null Count    Dtype  \n",
      "---  ------         --------------    -----  \n",
      " 0   DIAG_ID        1227375 non-null  int64  \n",
      " 1   PERSON_ID      1227375 non-null  int64  \n",
      " 2   VISIT_ID       1227375 non-null  int64  \n",
      " 3   RECORDED_DATE  1227375 non-null  int64  \n",
      " 4   RECORDED_TIME  1227375 non-null  object \n",
      " 5   DIAG_DATE      1227375 non-null  float64\n",
      " 6   DIAG_TIME      1227375 non-null  object \n",
      " 7   SUBCATEGORY    1227375 non-null  object \n",
      " 8   EVENT_DESC     1227375 non-null  object \n",
      " 9   VALUE          1227375 non-null  object \n",
      "dtypes: float64(1), int64(4), object(5)\n",
      "memory usage: 93.6+ MB\n"
     ]
    }
   ],
   "source": [
    "dataset.info()"
   ]
  },
  {
   "cell_type": "code",
   "execution_count": 13,
   "id": "09ab79d7",
   "metadata": {},
   "outputs": [
    {
     "data": {
      "text/html": [
       "<div>\n",
       "<style scoped>\n",
       "    .dataframe tbody tr th:only-of-type {\n",
       "        vertical-align: middle;\n",
       "    }\n",
       "\n",
       "    .dataframe tbody tr th {\n",
       "        vertical-align: top;\n",
       "    }\n",
       "\n",
       "    .dataframe thead th {\n",
       "        text-align: right;\n",
       "    }\n",
       "</style>\n",
       "<table border=\"1\" class=\"dataframe\">\n",
       "  <thead>\n",
       "    <tr style=\"text-align: right;\">\n",
       "      <th></th>\n",
       "      <th>DIAG_ID</th>\n",
       "      <th>PERSON_ID</th>\n",
       "      <th>VISIT_ID</th>\n",
       "      <th>RECORDED_DATE</th>\n",
       "      <th>RECORDED_TIME</th>\n",
       "      <th>DIAG_DATE</th>\n",
       "      <th>DIAG_TIME</th>\n",
       "      <th>SUBCATEGORY</th>\n",
       "      <th>EVENT_DESC</th>\n",
       "      <th>VALUE</th>\n",
       "    </tr>\n",
       "  </thead>\n",
       "  <tbody>\n",
       "    <tr>\n",
       "      <th>0</th>\n",
       "      <td>0</td>\n",
       "      <td>5887</td>\n",
       "      <td>120199</td>\n",
       "      <td>3</td>\n",
       "      <td>07:43:51.0000000</td>\n",
       "      <td>19.0</td>\n",
       "      <td>00:33:00.0000000</td>\n",
       "      <td>Final</td>\n",
       "      <td>Proteinuria, unspecified</td>\n",
       "      <td>R80.9</td>\n",
       "    </tr>\n",
       "    <tr>\n",
       "      <th>1</th>\n",
       "      <td>1</td>\n",
       "      <td>20661</td>\n",
       "      <td>187867</td>\n",
       "      <td>81</td>\n",
       "      <td>15:43:42.0000000</td>\n",
       "      <td>93.0</td>\n",
       "      <td>08:27:00.0000000</td>\n",
       "      <td>Final</td>\n",
       "      <td>Acute upper respiratory infection, unspecified</td>\n",
       "      <td>J06.9</td>\n",
       "    </tr>\n",
       "    <tr>\n",
       "      <th>2</th>\n",
       "      <td>2</td>\n",
       "      <td>17856</td>\n",
       "      <td>204978</td>\n",
       "      <td>-7</td>\n",
       "      <td>11:38:49.0000000</td>\n",
       "      <td>-2.0</td>\n",
       "      <td>19:09:00.0000000</td>\n",
       "      <td>Admitting Diagnosis</td>\n",
       "      <td>Encounter for antenatal screening for malforma...</td>\n",
       "      <td>Z3A.16</td>\n",
       "    </tr>\n",
       "    <tr>\n",
       "      <th>3</th>\n",
       "      <td>3</td>\n",
       "      <td>3730</td>\n",
       "      <td>80795</td>\n",
       "      <td>130</td>\n",
       "      <td>13:34:09.0000000</td>\n",
       "      <td>117.0</td>\n",
       "      <td>13:27:00.0000000</td>\n",
       "      <td>Final</td>\n",
       "      <td>20 weeks gestation of pregnancy</td>\n",
       "      <td>J06.9</td>\n",
       "    </tr>\n",
       "    <tr>\n",
       "      <th>4</th>\n",
       "      <td>4</td>\n",
       "      <td>9908</td>\n",
       "      <td>167881</td>\n",
       "      <td>86</td>\n",
       "      <td>15:16:45.0000000</td>\n",
       "      <td>150.0</td>\n",
       "      <td>10:26:00.0000000</td>\n",
       "      <td>Discharge Diagnosis</td>\n",
       "      <td>20 weeks gestation of pregnancy</td>\n",
       "      <td>Z3A.20</td>\n",
       "    </tr>\n",
       "  </tbody>\n",
       "</table>\n",
       "</div>"
      ],
      "text/plain": [
       "   DIAG_ID  PERSON_ID  VISIT_ID  RECORDED_DATE     RECORDED_TIME  DIAG_DATE  \\\n",
       "0        0       5887    120199              3  07:43:51.0000000       19.0   \n",
       "1        1      20661    187867             81  15:43:42.0000000       93.0   \n",
       "2        2      17856    204978             -7  11:38:49.0000000       -2.0   \n",
       "3        3       3730     80795            130  13:34:09.0000000      117.0   \n",
       "4        4       9908    167881             86  15:16:45.0000000      150.0   \n",
       "\n",
       "          DIAG_TIME          SUBCATEGORY  \\\n",
       "0  00:33:00.0000000                Final   \n",
       "1  08:27:00.0000000                Final   \n",
       "2  19:09:00.0000000  Admitting Diagnosis   \n",
       "3  13:27:00.0000000                Final   \n",
       "4  10:26:00.0000000  Discharge Diagnosis   \n",
       "\n",
       "                                          EVENT_DESC   VALUE  \n",
       "0                           Proteinuria, unspecified   R80.9  \n",
       "1     Acute upper respiratory infection, unspecified   J06.9  \n",
       "2  Encounter for antenatal screening for malforma...  Z3A.16  \n",
       "3                    20 weeks gestation of pregnancy   J06.9  \n",
       "4                    20 weeks gestation of pregnancy  Z3A.20  "
      ]
     },
     "execution_count": 13,
     "metadata": {},
     "output_type": "execute_result"
    }
   ],
   "source": [
    "dataset.head()"
   ]
  },
  {
   "cell_type": "code",
   "execution_count": 14,
   "id": "2f376bbe",
   "metadata": {
    "scrolled": true
   },
   "outputs": [
    {
     "data": {
      "text/html": [
       "<div>\n",
       "<style scoped>\n",
       "    .dataframe tbody tr th:only-of-type {\n",
       "        vertical-align: middle;\n",
       "    }\n",
       "\n",
       "    .dataframe tbody tr th {\n",
       "        vertical-align: top;\n",
       "    }\n",
       "\n",
       "    .dataframe thead th {\n",
       "        text-align: right;\n",
       "    }\n",
       "</style>\n",
       "<table border=\"1\" class=\"dataframe\">\n",
       "  <thead>\n",
       "    <tr style=\"text-align: right;\">\n",
       "      <th></th>\n",
       "      <th>DIAG_ID</th>\n",
       "      <th>PERSON_ID</th>\n",
       "      <th>VISIT_ID</th>\n",
       "      <th>RECORDED_DATE</th>\n",
       "      <th>RECORDED_TIME</th>\n",
       "      <th>DIAG_DATE</th>\n",
       "      <th>DIAG_TIME</th>\n",
       "      <th>SUBCATEGORY</th>\n",
       "      <th>EVENT_DESC</th>\n",
       "      <th>VALUE</th>\n",
       "    </tr>\n",
       "  </thead>\n",
       "  <tbody>\n",
       "    <tr>\n",
       "      <th>1227370</th>\n",
       "      <td>1227370</td>\n",
       "      <td>8169</td>\n",
       "      <td>143372</td>\n",
       "      <td>114</td>\n",
       "      <td>14:09:23.0000000</td>\n",
       "      <td>85.0</td>\n",
       "      <td>11:43:00.0000000</td>\n",
       "      <td>Final</td>\n",
       "      <td>Smoking (tobacco) complicating childbirth</td>\n",
       "      <td>O99.334</td>\n",
       "    </tr>\n",
       "    <tr>\n",
       "      <th>1227371</th>\n",
       "      <td>1227371</td>\n",
       "      <td>4024</td>\n",
       "      <td>29049</td>\n",
       "      <td>332</td>\n",
       "      <td>10:04:54.0000000</td>\n",
       "      <td>367.0</td>\n",
       "      <td>13:58:00.0000000</td>\n",
       "      <td>Final</td>\n",
       "      <td>26 weeks gestation of pregnancy</td>\n",
       "      <td>Z3A.26</td>\n",
       "    </tr>\n",
       "    <tr>\n",
       "      <th>1227372</th>\n",
       "      <td>1227372</td>\n",
       "      <td>5468</td>\n",
       "      <td>203118</td>\n",
       "      <td>108</td>\n",
       "      <td>07:15:41.0000000</td>\n",
       "      <td>108.0</td>\n",
       "      <td>10:00:00.0000000</td>\n",
       "      <td>Final</td>\n",
       "      <td>Nausea</td>\n",
       "      <td>R11.0</td>\n",
       "    </tr>\n",
       "    <tr>\n",
       "      <th>1227373</th>\n",
       "      <td>1227373</td>\n",
       "      <td>27730</td>\n",
       "      <td>205548</td>\n",
       "      <td>37</td>\n",
       "      <td>07:07:59.0000000</td>\n",
       "      <td>38.0</td>\n",
       "      <td>13:00:00.0000000</td>\n",
       "      <td>Final</td>\n",
       "      <td>Supervision of high risk pregnancy, unspecifie...</td>\n",
       "      <td>Z3A.33</td>\n",
       "    </tr>\n",
       "    <tr>\n",
       "      <th>1227374</th>\n",
       "      <td>1227374</td>\n",
       "      <td>4845</td>\n",
       "      <td>71824</td>\n",
       "      <td>1407</td>\n",
       "      <td>15:21:03.0000000</td>\n",
       "      <td>125.0</td>\n",
       "      <td>08:56:00.0000000</td>\n",
       "      <td>Final</td>\n",
       "      <td>Paresthesia of skin</td>\n",
       "      <td>R20.2</td>\n",
       "    </tr>\n",
       "  </tbody>\n",
       "</table>\n",
       "</div>"
      ],
      "text/plain": [
       "         DIAG_ID  PERSON_ID  VISIT_ID  RECORDED_DATE     RECORDED_TIME  \\\n",
       "1227370  1227370       8169    143372            114  14:09:23.0000000   \n",
       "1227371  1227371       4024     29049            332  10:04:54.0000000   \n",
       "1227372  1227372       5468    203118            108  07:15:41.0000000   \n",
       "1227373  1227373      27730    205548             37  07:07:59.0000000   \n",
       "1227374  1227374       4845     71824           1407  15:21:03.0000000   \n",
       "\n",
       "         DIAG_DATE         DIAG_TIME SUBCATEGORY  \\\n",
       "1227370       85.0  11:43:00.0000000       Final   \n",
       "1227371      367.0  13:58:00.0000000       Final   \n",
       "1227372      108.0  10:00:00.0000000       Final   \n",
       "1227373       38.0  13:00:00.0000000       Final   \n",
       "1227374      125.0  08:56:00.0000000       Final   \n",
       "\n",
       "                                                EVENT_DESC    VALUE  \n",
       "1227370          Smoking (tobacco) complicating childbirth  O99.334  \n",
       "1227371                    26 weeks gestation of pregnancy   Z3A.26  \n",
       "1227372                                             Nausea    R11.0  \n",
       "1227373  Supervision of high risk pregnancy, unspecifie...   Z3A.33  \n",
       "1227374                                Paresthesia of skin    R20.2  "
      ]
     },
     "execution_count": 14,
     "metadata": {},
     "output_type": "execute_result"
    }
   ],
   "source": [
    "dataset.tail()"
   ]
  },
  {
   "cell_type": "code",
   "execution_count": 17,
   "id": "0cd55dfd",
   "metadata": {},
   "outputs": [],
   "source": [
    "dataset.rename(columns={\n",
    "    'PERSON_ID': 'PersonID',\n",
    "    'RECORDED_DATE': 'RecordedDate',\n",
    "    'RECORDED_TIME': 'RecordedTime',\n",
    "    'DIAG_DATE': 'DiagDate',\n",
    "    'DIAG_TIME': 'DiagTime',\n",
    "    'SUBCATEGORY': 'Subcategory',\n",
    "    'EVENT_DESC': 'EventDesc',\n",
    "    'VALUE': 'DiagCode'\n",
    "}, inplace=True)"
   ]
  },
  {
   "cell_type": "code",
   "execution_count": 18,
   "id": "248e8e91",
   "metadata": {},
   "outputs": [
    {
     "data": {
      "text/html": [
       "<div>\n",
       "<style scoped>\n",
       "    .dataframe tbody tr th:only-of-type {\n",
       "        vertical-align: middle;\n",
       "    }\n",
       "\n",
       "    .dataframe tbody tr th {\n",
       "        vertical-align: top;\n",
       "    }\n",
       "\n",
       "    .dataframe thead th {\n",
       "        text-align: right;\n",
       "    }\n",
       "</style>\n",
       "<table border=\"1\" class=\"dataframe\">\n",
       "  <thead>\n",
       "    <tr style=\"text-align: right;\">\n",
       "      <th></th>\n",
       "      <th>DIAG_ID</th>\n",
       "      <th>PersonID</th>\n",
       "      <th>VISIT_ID</th>\n",
       "      <th>RecordedDate</th>\n",
       "      <th>RecordedTime</th>\n",
       "      <th>DiagDate</th>\n",
       "      <th>DiagTime</th>\n",
       "      <th>Subcategory</th>\n",
       "      <th>EventDesc</th>\n",
       "      <th>DiagCode</th>\n",
       "    </tr>\n",
       "  </thead>\n",
       "  <tbody>\n",
       "    <tr>\n",
       "      <th>0</th>\n",
       "      <td>0</td>\n",
       "      <td>5887</td>\n",
       "      <td>120199</td>\n",
       "      <td>3</td>\n",
       "      <td>07:43:51.0000000</td>\n",
       "      <td>19.0</td>\n",
       "      <td>00:33:00.0000000</td>\n",
       "      <td>Final</td>\n",
       "      <td>Proteinuria, unspecified</td>\n",
       "      <td>R80.9</td>\n",
       "    </tr>\n",
       "    <tr>\n",
       "      <th>1</th>\n",
       "      <td>1</td>\n",
       "      <td>20661</td>\n",
       "      <td>187867</td>\n",
       "      <td>81</td>\n",
       "      <td>15:43:42.0000000</td>\n",
       "      <td>93.0</td>\n",
       "      <td>08:27:00.0000000</td>\n",
       "      <td>Final</td>\n",
       "      <td>Acute upper respiratory infection, unspecified</td>\n",
       "      <td>J06.9</td>\n",
       "    </tr>\n",
       "    <tr>\n",
       "      <th>2</th>\n",
       "      <td>2</td>\n",
       "      <td>17856</td>\n",
       "      <td>204978</td>\n",
       "      <td>-7</td>\n",
       "      <td>11:38:49.0000000</td>\n",
       "      <td>-2.0</td>\n",
       "      <td>19:09:00.0000000</td>\n",
       "      <td>Admitting Diagnosis</td>\n",
       "      <td>Encounter for antenatal screening for malforma...</td>\n",
       "      <td>Z3A.16</td>\n",
       "    </tr>\n",
       "    <tr>\n",
       "      <th>3</th>\n",
       "      <td>3</td>\n",
       "      <td>3730</td>\n",
       "      <td>80795</td>\n",
       "      <td>130</td>\n",
       "      <td>13:34:09.0000000</td>\n",
       "      <td>117.0</td>\n",
       "      <td>13:27:00.0000000</td>\n",
       "      <td>Final</td>\n",
       "      <td>20 weeks gestation of pregnancy</td>\n",
       "      <td>J06.9</td>\n",
       "    </tr>\n",
       "    <tr>\n",
       "      <th>4</th>\n",
       "      <td>4</td>\n",
       "      <td>9908</td>\n",
       "      <td>167881</td>\n",
       "      <td>86</td>\n",
       "      <td>15:16:45.0000000</td>\n",
       "      <td>150.0</td>\n",
       "      <td>10:26:00.0000000</td>\n",
       "      <td>Discharge Diagnosis</td>\n",
       "      <td>20 weeks gestation of pregnancy</td>\n",
       "      <td>Z3A.20</td>\n",
       "    </tr>\n",
       "  </tbody>\n",
       "</table>\n",
       "</div>"
      ],
      "text/plain": [
       "   DIAG_ID  PersonID  VISIT_ID  RecordedDate      RecordedTime  DiagDate  \\\n",
       "0        0      5887    120199             3  07:43:51.0000000      19.0   \n",
       "1        1     20661    187867            81  15:43:42.0000000      93.0   \n",
       "2        2     17856    204978            -7  11:38:49.0000000      -2.0   \n",
       "3        3      3730     80795           130  13:34:09.0000000     117.0   \n",
       "4        4      9908    167881            86  15:16:45.0000000     150.0   \n",
       "\n",
       "           DiagTime          Subcategory  \\\n",
       "0  00:33:00.0000000                Final   \n",
       "1  08:27:00.0000000                Final   \n",
       "2  19:09:00.0000000  Admitting Diagnosis   \n",
       "3  13:27:00.0000000                Final   \n",
       "4  10:26:00.0000000  Discharge Diagnosis   \n",
       "\n",
       "                                           EventDesc DiagCode  \n",
       "0                           Proteinuria, unspecified    R80.9  \n",
       "1     Acute upper respiratory infection, unspecified    J06.9  \n",
       "2  Encounter for antenatal screening for malforma...   Z3A.16  \n",
       "3                    20 weeks gestation of pregnancy    J06.9  \n",
       "4                    20 weeks gestation of pregnancy   Z3A.20  "
      ]
     },
     "execution_count": 18,
     "metadata": {},
     "output_type": "execute_result"
    }
   ],
   "source": [
    "dataset.head() #Testing Renaming"
   ]
  },
  {
   "cell_type": "code",
   "execution_count": 19,
   "id": "6f8a50a5",
   "metadata": {},
   "outputs": [],
   "source": [
    "# Filter the data to include only final diagnoses\n",
    "final_diagnoses = dataset[dataset['Subcategory'] == 'Final'] "
   ]
  },
  {
   "cell_type": "code",
   "execution_count": 23,
   "id": "816c2363",
   "metadata": {},
   "outputs": [
    {
     "data": {
      "text/plain": [
       "(739873, 10)"
      ]
     },
     "execution_count": 23,
     "metadata": {},
     "output_type": "execute_result"
    }
   ],
   "source": [
    "final_diagnoses.shape"
   ]
  },
  {
   "cell_type": "code",
   "execution_count": 24,
   "id": "532f8dc4",
   "metadata": {},
   "outputs": [
    {
     "data": {
      "text/plain": [
       "Z37.0      11341\n",
       "Z34.90      9348\n",
       "O99.89      9335\n",
       "E66.01      8691\n",
       "O09.893     8508\n",
       "           ...  \n",
       "N87.1          1\n",
       "O09.70         1\n",
       "M54.32         1\n",
       "Z04.8          1\n",
       "Z56.5          1\n",
       "Name: DiagCode, Length: 3055, dtype: int64"
      ]
     },
     "execution_count": 24,
     "metadata": {},
     "output_type": "execute_result"
    }
   ],
   "source": [
    "# Calculate and display the value counts of the diagnosis codes\n",
    "diag_code_counts = final_diagnoses['DiagCode'].value_counts() \n",
    "diag_code_counts"
   ]
  },
  {
   "cell_type": "code",
   "execution_count": 25,
   "id": "9acaa7af",
   "metadata": {},
   "outputs": [
    {
     "data": {
      "text/plain": [
       "(2265, 10)"
      ]
     },
     "execution_count": 25,
     "metadata": {},
     "output_type": "execute_result"
    }
   ],
   "source": [
    "# Check the distribution of a specific diagnosis code (e.g., 'J06.9')\n",
    "specific_diag = final_diagnoses[final_diagnoses['DiagCode'] == 'J06.9']\n",
    "specific_diag.shape"
   ]
  },
  {
   "cell_type": "code",
   "execution_count": 26,
   "id": "cac8f8db",
   "metadata": {},
   "outputs": [
    {
     "data": {
      "text/plain": [
       "(487376, 10)"
      ]
     },
     "execution_count": 26,
     "metadata": {},
     "output_type": "execute_result"
    }
   ],
   "source": [
    "# Further filtering or analysis as required\n",
    "# For example, filtering based on specific dates or times\n",
    "date_filtered = final_diagnoses[final_diagnoses['DiagDate'] > 50]\n",
    "date_filtered.shape"
   ]
  },
  {
   "cell_type": "code",
   "execution_count": 28,
   "id": "bed916ac",
   "metadata": {},
   "outputs": [],
   "source": [
    "# Example of merging with another hypothetical dataset\n",
    "# Create a sample demographics dataset\n",
    "demographics_data = {\n",
    "    'PersonID': [5887, 20661, 17856, 3730, 9908],\n",
    "    'Age': [34, 45, 29, 50, 38],\n",
    "    'Gender': ['Male', 'Female', 'Male', 'Female', 'Female'],\n",
    "    'ZIPCode': ['10001', '10002', '10003', '10004', '10005']\n",
    "}\n",
    "demographics_df = pd.DataFrame(demographics_data)"
   ]
  },
  {
   "cell_type": "code",
   "execution_count": 29,
   "id": "5772369a",
   "metadata": {},
   "outputs": [
    {
     "name": "stdout",
     "output_type": "stream",
     "text": [
      "   DIAG_ID  PersonID  VISIT_ID  RecordedDate      RecordedTime  DiagDate  \\\n",
      "0        0      5887    120199             3  07:43:51.0000000      19.0   \n",
      "1     2026      5887    200185           132  00:13:07.0000000     149.0   \n",
      "2     7704      5887     46109             3  10:56:21.0000000      -1.0   \n",
      "3    34726      5887    194749           199  12:43:13.0000000     175.0   \n",
      "4    79689      5887     92771            23  07:26:44.0000000       8.0   \n",
      "\n",
      "           DiagTime Subcategory  \\\n",
      "0  00:33:00.0000000       Final   \n",
      "1  10:02:00.0000000       Final   \n",
      "2  08:24:00.0000000       Final   \n",
      "3  14:52:00.0000000       Final   \n",
      "4  09:14:00.0000000       Final   \n",
      "\n",
      "                                           EventDesc DiagCode  Age Gender  \\\n",
      "0                           Proteinuria, unspecified    R80.9   34   Male   \n",
      "1                                Paresthesia of skin    R20.2   34   Male   \n",
      "2  Person with feared health complaint in whom no...    Z71.1   34   Male   \n",
      "3  Polyhydramnios, third trimester, not applicabl...    O75.4   34   Male   \n",
      "4  Unspecified pre-existing diabetes mellitus in ...  O24.312   34   Male   \n",
      "\n",
      "  ZIPCode  \n",
      "0   10001  \n",
      "1   10001  \n",
      "2   10001  \n",
      "3   10001  \n",
      "4   10001  \n"
     ]
    }
   ],
   "source": [
    "# Merge the final diagnoses data with the demographics data on PersonID\n",
    "merged_df = pd.merge(final_diagnoses, demographics_df, on='PersonID', how='inner')\n",
    "print(merged_df.head())"
   ]
  },
  {
   "cell_type": "code",
   "execution_count": 30,
   "id": "b68c35b5",
   "metadata": {},
   "outputs": [
    {
     "name": "stdout",
     "output_type": "stream",
     "text": [
      "Diagnosis counts by age group:\n",
      " Age\n",
      "29     7\n",
      "34    41\n",
      "38    25\n",
      "45    18\n",
      "50    56\n",
      "Name: DiagCode, dtype: int64\n"
     ]
    }
   ],
   "source": [
    "# Further analysis: Count of diagnoses by age group\n",
    "age_group_counts = merged_df.groupby('Age')['DiagCode'].count()\n",
    "print(\"Diagnosis counts by age group:\\n\", age_group_counts)"
   ]
  },
  {
   "cell_type": "code",
   "execution_count": 31,
   "id": "c5781354",
   "metadata": {},
   "outputs": [
    {
     "name": "stdout",
     "output_type": "stream",
     "text": [
      "Diagnosis counts by gender:\n",
      " Gender\n",
      "Female    99\n",
      "Male      48\n",
      "Name: DiagCode, dtype: int64\n"
     ]
    }
   ],
   "source": [
    "# Analysis: Distribution of diagnoses by gender\n",
    "gender_diag_counts = merged_df.groupby('Gender')['DiagCode'].count()\n",
    "print(\"Diagnosis counts by gender:\\n\", gender_diag_counts)"
   ]
  },
  {
   "cell_type": "code",
   "execution_count": 34,
   "id": "6d1abe77",
   "metadata": {},
   "outputs": [
    {
     "name": "stdout",
     "output_type": "stream",
     "text": [
      "Average diagnosis date by subcategory:\n",
      " Subcategory\n",
      "Admitting Diagnosis    205.767407\n",
      "Billing Diagnosis      165.012821\n",
      "Discharge Diagnosis    250.619321\n",
      "Final                  220.762934\n",
      "Other Diagnosis        108.383380\n",
      "Post-Op Diagnosis      189.000000\n",
      "Pre-Op Diagnosis       439.300000\n",
      "Principal Diagnosis    379.285714\n",
      "Reason For Visit       198.605250\n",
      "Referring Diagnosis     76.137931\n",
      "Unknown                210.392597\n",
      "Working Diagnosis      130.510204\n",
      "Name: DiagDate, dtype: float64\n"
     ]
    }
   ],
   "source": [
    "# Example of using groupby to get the average diagnosis date by Subcategory\n",
    "average_diag_date = dataset.groupby('Subcategory')['DiagDate'].mean()\n",
    "print(\"Average diagnosis date by subcategory:\\n\", average_diag_date)"
   ]
  },
  {
   "cell_type": "code",
   "execution_count": 35,
   "id": "78d7e2a8",
   "metadata": {},
   "outputs": [
    {
     "name": "stdout",
     "output_type": "stream",
     "text": [
      "Diagnosis counts by person:\n",
      " PersonID\n",
      "1        2946\n",
      "2           7\n",
      "3          23\n",
      "4          12\n",
      "5          12\n",
      "         ... \n",
      "32909       6\n",
      "32910       7\n",
      "32911       5\n",
      "32912       9\n",
      "32913     833\n",
      "Name: DiagCode, Length: 32913, dtype: int64\n"
     ]
    }
   ],
   "source": [
    "# Example of using groupby to get the count of diagnoses by PersonID\n",
    "person_diag_counts = dataset.groupby('PersonID')['DiagCode'].count()\n",
    "print(\"Diagnosis counts by person:\\n\", person_diag_counts)"
   ]
  },
  {
   "cell_type": "code",
   "execution_count": 36,
   "id": "8949939d",
   "metadata": {},
   "outputs": [
    {
     "name": "stdout",
     "output_type": "stream",
     "text": [
      "Top 10 persons with most diagnoses:\n",
      " PersonID\n",
      "1        2946\n",
      "32913     833\n",
      "7540      112\n",
      "7993      111\n",
      "8041      109\n",
      "4684      106\n",
      "7901      106\n",
      "4072      106\n",
      "8013      106\n",
      "8419      105\n",
      "Name: DiagCode, dtype: int64\n"
     ]
    }
   ],
   "source": [
    "# Display top 10 persons with most diagnoses\n",
    "top_10_persons = person_diag_counts.sort_values(ascending=False).head(10)\n",
    "print(\"Top 10 persons with most diagnoses:\\n\", top_10_persons)"
   ]
  }
 ],
 "metadata": {
  "kernelspec": {
   "display_name": "Python 3 (ipykernel)",
   "language": "python",
   "name": "python3"
  },
  "language_info": {
   "codemirror_mode": {
    "name": "ipython",
    "version": 3
   },
   "file_extension": ".py",
   "mimetype": "text/x-python",
   "name": "python",
   "nbconvert_exporter": "python",
   "pygments_lexer": "ipython3",
   "version": "3.10.9"
  }
 },
 "nbformat": 4,
 "nbformat_minor": 5
}
