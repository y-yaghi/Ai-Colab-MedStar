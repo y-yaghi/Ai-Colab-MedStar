{
 "cells": [
  {
   "cell_type": "code",
   "execution_count": 10,
   "id": "05094bb5",
   "metadata": {},
   "outputs": [],
   "source": [
    "import pandas as pd\n",
    "import pyreadstat\n",
    "import numpy as np"
   ]
  },
  {
   "cell_type": "markdown",
   "id": "3bc5c08a",
   "metadata": {},
   "source": [
    "### 1999-2000"
   ]
  },
  {
   "cell_type": "code",
   "execution_count": 147,
   "id": "a4db12b5",
   "metadata": {},
   "outputs": [],
   "source": [
    "glu_df_1, _ = pyreadstat.read_xport(\"LAB10AM.xpt\")\n",
    "bio_df_1 = pd.read_sas(\"LAB18.XPT\", format='xport', encoding='latin1')\n",
    "gfr_df_1, _ = pyreadstat.read_xport(\"LAB16.xpt\")\n",
    "smq_df_1, _ = pyreadstat.read_xport(\"SMQ.xpt\")\n",
    "alq_df_1, _ = pyreadstat.read_xport(\"ALQ.xpt\")\n",
    "demo_df_1, _ = pyreadstat.read_xport(\"DEMO.xpt\")\n",
    "diq_df_1, _ = pyreadstat.read_xport(\"DIQ.xpt\")"
   ]
  },
  {
   "cell_type": "code",
   "execution_count": 148,
   "id": "49d3b6fc",
   "metadata": {},
   "outputs": [],
   "source": [
    "glu_df_1 = glu_df_1[['SEQN', 'LBXGLU', 'LBXIN']]     \n",
    "bio_df_1 = bio_df_1[['SEQN', 'LBXSBU', 'LBXSCR', 'LBXSATSI']]  \n",
    "gfr_df_1 = gfr_df_1[['SEQN', 'URXUMASI', 'URXUCR']]  \n",
    "smq_df_1 = smq_df_1[['SEQN', 'SMQ020', 'SMQ040']]  \n",
    "alq_df_1 = alq_df_1[['SEQN', 'ALQ110', 'ALQ120Q', 'ALQ130']]  \n",
    "demo_df_1 = demo_df_1[['SEQN', 'RIDAGEYR', 'RIAGENDR', 'DMDEDUC2', 'INDFMPIR']]  \n",
    "diq_df_1 = diq_df_1[['SEQN', 'DIQ010', 'DIQ040G', 'DIQ050', 'DIQ070']]\n",
    "gfr_df_1 = gfr_df_1.rename(columns={'URXUMASI': 'URXUMS'})\n",
    "diq_df_1 = diq_df_1.rename(columns={'DIQ040G': 'DID040'})"
   ]
  },
  {
   "cell_type": "code",
   "execution_count": 149,
   "id": "b16f525a",
   "metadata": {},
   "outputs": [],
   "source": [
    "merged_df_1 = glu_df_1 \\\n",
    "    .merge(bio_df_1, on='SEQN', how='inner') \\\n",
    "    .merge(gfr_df_1, on='SEQN', how='inner') \\\n",
    "    .merge(smq_df_1, on='SEQN', how='inner') \\\n",
    "    .merge(alq_df_1, on='SEQN', how='inner') \\\n",
    "    .merge(demo_df_1, on='SEQN', how='inner') \\\n",
    "    .merge(diq_df_1, on='SEQN', how='inner')\n",
    "\n",
    "merged_df_1['SurveyCycle'] = '1999-2000'\n",
    "\n",
    "merged_df_1.to_csv(\"merged_nhanes_1999_2000.csv\", index=False)"
   ]
  },
  {
   "cell_type": "code",
   "execution_count": 151,
   "id": "2139b677",
   "metadata": {},
   "outputs": [],
   "source": [
    "df_1 = pd.read_csv(\"merged_nhanes_1999_2000.csv\")\n",
    "\n",
    "if 'URDACT' not in df_1.columns:\n",
    "    df_1['URDACT'] = np.nan  \n",
    "\n",
    "valid_1 = df_1['URXUMS'].notnull() & df_1['URXUCR'].notnull() & (df_1['URXUCR'] != 0)\n",
    "\n",
    "df_1['URDACT_filled'] = df_1['URDACT'].copy()\n",
    "df_1.loc[df['URDACT'].isnull() & valid_1, 'URDACT_filled'] = (df_1.loc[valid_1, 'URXUMS'] / df_1.loc[valid_1, 'URXUCR']) * 100\n",
    "\n",
    "df_1.to_csv(\"merged_nhanes_1999_2000_2.csv\", index=False)"
   ]
  },
  {
   "cell_type": "markdown",
   "id": "712b687b",
   "metadata": {},
   "source": [
    "### 2001-2002"
   ]
  },
  {
   "cell_type": "code",
   "execution_count": 188,
   "id": "55663847",
   "metadata": {},
   "outputs": [],
   "source": [
    "glu_df_b, _ = pyreadstat.read_xport(\"L10AM_B.xpt\")\n",
    "bio_df_b = pd.read_sas(\"L40_B.XPT\", format='xport', encoding='latin1')\n",
    "gfr_df_b, _ = pyreadstat.read_xport(\"L16_B.xpt\")\n",
    "smq_df_b, _ = pyreadstat.read_xport(\"SMQ_B.xpt\")\n",
    "alq_df_b, _ = pyreadstat.read_xport(\"ALQ_B.xpt\")\n",
    "demo_df_b, _ = pyreadstat.read_xport(\"DEMO_B.xpt\")\n",
    "diq_df_b, _ = pyreadstat.read_xport(\"DIQ_B.xpt\")"
   ]
  },
  {
   "cell_type": "code",
   "execution_count": 189,
   "id": "b2a7fe92",
   "metadata": {},
   "outputs": [],
   "source": [
    "glu_df_b = glu_df_b[['SEQN', 'LBXGLU', 'LBXIN']]     \n",
    "bio_df_b = bio_df_b[['SEQN', 'LBXSBU', 'LBDSCR', 'LBXSATSI']]  \n",
    "gfr_df_b = gfr_df_b[['SEQN', 'URXUMASI', 'URXUCR']]  \n",
    "smq_df_b = smq_df_b[['SEQN', 'SMQ020', 'SMQ040']]  \n",
    "alq_df_b = alq_df_b[['SEQN', 'ALQ110', 'ALQ120Q', 'ALQ130']]  \n",
    "demo_df_b = demo_df_b[['SEQN', 'RIDAGEYR', 'RIAGENDR', 'DMDEDUC2', 'INDFMPIR']]  \n",
    "diq_df_b = diq_df_b[['SEQN', 'DIQ010', 'DID040G', 'DIQ050', 'DIQ070']]\n",
    "gfr_df_b = gfr_df_b.rename(columns={'URXUMASI': 'URXUMS'})\n",
    "diq_df_b = diq_df_b.rename(columns={'DID040G': 'DID040'})\n",
    "bio_df_b = bio_df_b.rename(columns={'LBDSCR': 'LBXSCR'})"
   ]
  },
  {
   "cell_type": "code",
   "execution_count": 190,
   "id": "bcefe77c",
   "metadata": {},
   "outputs": [],
   "source": [
    "merged_df_b = glu_df_b \\\n",
    "    .merge(bio_df_b, on='SEQN', how='inner') \\\n",
    "    .merge(gfr_df_b, on='SEQN', how='inner') \\\n",
    "    .merge(smq_df_b, on='SEQN', how='inner') \\\n",
    "    .merge(alq_df_b, on='SEQN', how='inner') \\\n",
    "    .merge(demo_df_b, on='SEQN', how='inner') \\\n",
    "    .merge(diq_df_b, on='SEQN', how='inner')\n",
    "\n",
    "merged_df_b['SurveyCycle'] = '2001-2002'\n",
    "\n",
    "merged_df_b.to_csv(\"merged_nhanes_2001_2002.csv\", index=False)"
   ]
  },
  {
   "cell_type": "code",
   "execution_count": 191,
   "id": "fe8d9a6f",
   "metadata": {},
   "outputs": [],
   "source": [
    "df_b = pd.read_csv(\"merged_nhanes_2001_2002.csv\")\n",
    "\n",
    "if 'URDACT' not in df_b.columns:\n",
    "    df_b['URDACT'] = np.nan  \n",
    "\n",
    "valid_b = df_b['URXUMS'].notnull() & df_b['URXUCR'].notnull() & (df_b['URXUCR'] != 0)\n",
    "\n",
    "df_b['URDACT_filled'] = df_b['URDACT'].copy()\n",
    "df_b.loc[df['URDACT'].isnull() & valid_b, 'URDACT_filled'] = (df_b.loc[valid_b, 'URXUMS'] / df_b.loc[valid_b, 'URXUCR']) * 100\n",
    "\n",
    "df_b.to_csv(\"merged_nhanes_2001_2002_2.csv\", index=False)"
   ]
  },
  {
   "cell_type": "code",
   "execution_count": 187,
   "id": "1c6afe31",
   "metadata": {},
   "outputs": [],
   "source": [
    "del glu_df_b\n",
    "del bio_df_b\n",
    "del gfr_df_b\n",
    "del smq_df_b\n",
    "del alq_df_b\n",
    "del demo_df_b\n",
    "del diq_df_b"
   ]
  },
  {
   "cell_type": "markdown",
   "id": "6bb59bc5",
   "metadata": {},
   "source": [
    "### 2003-2004"
   ]
  },
  {
   "cell_type": "code",
   "execution_count": 166,
   "id": "1152f19d",
   "metadata": {},
   "outputs": [],
   "source": [
    "glu_df_c, _ = pyreadstat.read_xport(\"L10AM_C.xpt\")\n",
    "bio_df_c = pd.read_sas(\"L40_C.XPT\", format='xport', encoding='latin1')\n",
    "gfr_df_c, _ = pyreadstat.read_xport(\"L16_C.xpt\")\n",
    "smq_df_c, _ = pyreadstat.read_xport(\"SMQ_C.xpt\")\n",
    "alq_df_c, _ = pyreadstat.read_xport(\"ALQ_C.xpt\")\n",
    "demo_df_c, _ = pyreadstat.read_xport(\"DEMO_C.xpt\")\n",
    "diq_df_c, _ = pyreadstat.read_xport(\"DIQ_C.xpt\")"
   ]
  },
  {
   "cell_type": "code",
   "execution_count": 173,
   "id": "79c70d1f",
   "metadata": {},
   "outputs": [],
   "source": [
    "glu_df_c = glu_df_c[['SEQN', 'LBXGLU', 'LBXIN']]     \n",
    "bio_df_c = bio_df_c[['SEQN', 'LBXSBU', 'LBXSCR', 'LBXSATSI']]  \n",
    "gfr_df_c = gfr_df_c[['SEQN', 'URXUMASI', 'URXUCR']]  \n",
    "smq_df_c = smq_df_c[['SEQN', 'SMQ020', 'SMQ040']]  \n",
    "alq_df_c = alq_df_c[['SEQN', 'ALQ110', 'ALQ120Q', 'ALQ130']]  \n",
    "demo_df_c = demo_df_c[['SEQN', 'RIDAGEYR', 'RIAGENDR', 'DMDEDUC2', 'INDFMPIR']]  \n",
    "diq_df_c = diq_df_c[['SEQN', 'DIQ010', 'DID040G', 'DIQ050', 'DIQ070']]\n",
    "gfr_df_c = gfr_df_c.rename(columns={'URXUMASI': 'URXUMS'})\n",
    "diq_df_c = diq_df_c.rename(columns={'DID040G': 'DID040'})"
   ]
  },
  {
   "cell_type": "code",
   "execution_count": 174,
   "id": "7019fff9",
   "metadata": {},
   "outputs": [],
   "source": [
    "merged_df_c = glu_df_c \\\n",
    "    .merge(bio_df_c, on='SEQN', how='inner') \\\n",
    "    .merge(gfr_df_c, on='SEQN', how='inner') \\\n",
    "    .merge(smq_df_c, on='SEQN', how='inner') \\\n",
    "    .merge(alq_df_c, on='SEQN', how='inner') \\\n",
    "    .merge(demo_df_c, on='SEQN', how='inner') \\\n",
    "    .merge(diq_df_c, on='SEQN', how='inner')\n",
    "\n",
    "merged_df_c['SurveyCycle'] = '2003-2004'\n",
    "merged_df_c.to_csv(\"merged_nhanes_2003_2004.csv\", index=False)"
   ]
  },
  {
   "cell_type": "code",
   "execution_count": 175,
   "id": "5eb94fd8",
   "metadata": {},
   "outputs": [],
   "source": [
    "df_c = pd.read_csv(\"merged_nhanes_2003_2004.csv\")\n",
    "\n",
    "if 'URDACT' not in df_c.columns:\n",
    "    df_c['URDACT'] = np.nan\n",
    "\n",
    "valid_c = df_c['URXUMS'].notnull() & df_c['URXUCR'].notnull() & (df_c['URXUCR'] != 0)\n",
    "\n",
    "df_c['URDACT_filled'] = df_c['URDACT'].copy()\n",
    "df_c.loc[df_c['URDACT'].isnull() & valid_c, 'URDACT_filled'] = (\n",
    "    df_c.loc[df_c['URDACT'].isnull() & valid_c, 'URXUMS'] /\n",
    "    df_c.loc[df_c['URDACT'].isnull() & valid_c, 'URXUCR']\n",
    ") * 100\n",
    "\n",
    "df_c.to_csv(\"merged_nhanes_2003_2004_2.csv\", index=False)"
   ]
  },
  {
   "cell_type": "markdown",
   "id": "840de421",
   "metadata": {},
   "source": [
    "### 2005-2006"
   ]
  },
  {
   "cell_type": "code",
   "execution_count": 204,
   "id": "0547ead8",
   "metadata": {},
   "outputs": [],
   "source": [
    "glu_df_d, _ = pyreadstat.read_xport(\"GLU_D.xpt\")\n",
    "bio_df_d = pd.read_sas(\"BIOPRO_D.XPT\", format='xport', encoding='latin1')\n",
    "gfr_df_d, _ = pyreadstat.read_xport(\"ALB_CR_D.xpt\")\n",
    "smq_df_d, _ = pyreadstat.read_xport(\"SMQ_D.xpt\")\n",
    "alq_df_d, _ = pyreadstat.read_xport(\"ALQ_D.xpt\")\n",
    "demo_df_d, _ = pyreadstat.read_xport(\"DEMO_D.xpt\")\n",
    "diq_df_d, _ = pyreadstat.read_xport(\"DIQ_D.xpt\")"
   ]
  },
  {
   "cell_type": "code",
   "execution_count": 205,
   "id": "0bf6db66",
   "metadata": {},
   "outputs": [],
   "source": [
    "glu_df_d = glu_df_d[['SEQN', 'LBXGLU', 'LBXIN']]     \n",
    "bio_df_d = bio_df_d[['SEQN', 'LBXSBU', 'LBXSCR', 'LBXSATSI']]  \n",
    "gfr_df_d = gfr_df_d[['SEQN', 'URXUMS', 'URXUCR']]  \n",
    "smq_df_d = smq_df_d[['SEQN', 'SMQ020', 'SMQ040']]  \n",
    "alq_df_d = alq_df_d[['SEQN', 'ALQ110', 'ALQ120Q', 'ALQ130']]  \n",
    "demo_df_d = demo_df_d[['SEQN', 'RIDAGEYR', 'RIAGENDR', 'DMDEDUC2', 'INDFMPIR']]  \n",
    "diq_df_d = diq_df_d[['SEQN', 'DIQ010', 'DID040', 'DIQ050', 'DID070']]\n",
    "diq_df_d = diq_df_d.rename(columns={'DID070': 'DIQ070'})"
   ]
  },
  {
   "cell_type": "code",
   "execution_count": 206,
   "id": "c66fad44",
   "metadata": {},
   "outputs": [],
   "source": [
    "merged_df_d = glu_df_d \\\n",
    "    .merge(bio_df_d, on='SEQN', how='inner') \\\n",
    "    .merge(gfr_df_d, on='SEQN', how='inner') \\\n",
    "    .merge(smq_df_d, on='SEQN', how='inner') \\\n",
    "    .merge(alq_df_d, on='SEQN', how='inner') \\\n",
    "    .merge(demo_df_d, on='SEQN', how='inner') \\\n",
    "    .merge(diq_df_d, on='SEQN', how='inner')\n",
    "\n",
    "merged_df_d['SurveyCycle'] = '2005-2006'\n",
    "merged_df_d.to_csv(\"merged_nhanes_2005_2006_2.csv\", index=False)"
   ]
  },
  {
   "cell_type": "code",
   "execution_count": 207,
   "id": "a14170d9",
   "metadata": {},
   "outputs": [],
   "source": [
    "df_d = pd.read_csv(\"merged_nhanes_2005_2006_2.csv\")\n",
    "\n",
    "if 'URDACT' not in df_d.columns:\n",
    "    df_d['URDACT'] = np.nan  \n",
    "\n",
    "valid_d = df_d['URXUMS'].notnull() & df_d['URXUCR'].notnull() & (df_d['URXUCR'] != 0)\n",
    "\n",
    "df_d['URDACT_filled'] = df_d['URDACT'].copy()\n",
    "df_d.loc[df_d['URDACT'].isnull() & valid_d, 'URDACT_filled'] = (df_d.loc[df_d['URDACT'].isnull() & valid_d, 'URXUMS'] / df_d.loc[df_d['URDACT'].isnull() & valid_d, 'URXUCR']) * 100\n",
    "\n",
    "df_d.to_csv(\"merged_nhanes_2005_2006_3.csv\", index=False)"
   ]
  },
  {
   "cell_type": "code",
   "execution_count": 203,
   "id": "60ca18c3",
   "metadata": {},
   "outputs": [],
   "source": [
    "del glu_df_d\n",
    "del bio_df_d\n",
    "del gfr_df_d\n",
    "del smq_df_d\n",
    "del alq_df_d\n",
    "del demo_df_d\n",
    "del diq_df_d"
   ]
  },
  {
   "cell_type": "markdown",
   "id": "282e3241",
   "metadata": {},
   "source": [
    "### 2007-2008"
   ]
  },
  {
   "cell_type": "code",
   "execution_count": 3,
   "id": "af8f4dca",
   "metadata": {},
   "outputs": [],
   "source": [
    "glu_df, _ = pyreadstat.read_xport(\"GLU_E.xpt\")\n",
    "bio_df = pd.read_sas(\"BIOPRO_E.XPT\", format='xport', encoding='latin1')\n",
    "gfr_df, _ = pyreadstat.read_xport(\"ALB_CR_E.xpt\")\n",
    "smq_df, _ = pyreadstat.read_xport(\"SMQ_E.xpt\")\n",
    "alq_df, _ = pyreadstat.read_xport(\"ALQ_E.xpt\")\n",
    "demo_df, _ = pyreadstat.read_xport(\"DEMO_E.xpt\")\n",
    "diq_df, _ = pyreadstat.read_xport(\"DIQ_E.xpt\")"
   ]
  },
  {
   "cell_type": "code",
   "execution_count": 5,
   "id": "ebf4bda7",
   "metadata": {},
   "outputs": [],
   "source": [
    "glu_df = glu_df[['SEQN', 'LBXGLU', 'LBXIN']]     \n",
    "bio_df = bio_df[['SEQN', 'LBXSBU', 'LBXSCR', 'LBXSATSI']]  \n",
    "gfr_df = gfr_df[['SEQN', 'URXUMS', 'URXUCR']]  \n",
    "smq_df = smq_df[['SEQN', 'SMQ020', 'SMQ040']]  \n",
    "alq_df = alq_df[['SEQN', 'ALQ110', 'ALQ120Q', 'ALQ120U', 'ALQ130']]  \n",
    "demo_df = demo_df[['SEQN', 'RIDAGEYR', 'RIAGENDR', 'DMDEDUC2', 'INDFMPIR']]  \n",
    "diq_df = diq_df[['SEQN', 'DIQ010', 'DID040', 'DIQ050', 'DID070']]\n",
    "diq_df = diq_df.rename(columns={'DID070': 'DIQ070'})"
   ]
  },
  {
   "cell_type": "code",
   "execution_count": 7,
   "id": "2e27f22e",
   "metadata": {},
   "outputs": [],
   "source": [
    "merged_df = glu_df \\\n",
    "    .merge(bio_df, on='SEQN', how='inner') \\\n",
    "    .merge(gfr_df, on='SEQN', how='inner') \\\n",
    "    .merge(smq_df, on='SEQN', how='inner') \\\n",
    "    .merge(alq_df, on='SEQN', how='inner') \\\n",
    "    .merge(demo_df, on='SEQN', how='inner') \\\n",
    "    .merge(diq_df, on='SEQN', how='inner')\n",
    "\n",
    "merged_df['SurveyCycle'] = '2007-2008'\n",
    "\n",
    "merged_df.to_csv(\"merged_nhanes_2007_2008_2.csv\", index=False)"
   ]
  },
  {
   "cell_type": "code",
   "execution_count": 11,
   "id": "f88c40e3",
   "metadata": {},
   "outputs": [],
   "source": [
    "df = pd.read_csv(\"merged_nhanes_2007_2008_2.csv\")\n",
    "\n",
    "if 'URDACT' not in df.columns:\n",
    "    df['URDACT'] = np.nan  \n",
    "\n",
    "valid = df['URXUMS'].notnull() & df['URXUCR'].notnull() & (df['URXUCR'] != 0)\n",
    "\n",
    "df['URDACT_filled'] = df['URDACT'].copy()\n",
    "df.loc[df['URDACT'].isnull() & valid, 'URDACT_filled'] = (df.loc[valid, 'URXUMS'] / df.loc[valid, 'URXUCR']) * 100\n",
    "\n",
    "df.to_csv(\"merged_nhanes_2007_2008_3.csv\", index=False)"
   ]
  },
  {
   "cell_type": "markdown",
   "id": "535794bb",
   "metadata": {},
   "source": [
    "### 2009-2010"
   ]
  },
  {
   "cell_type": "code",
   "execution_count": 34,
   "id": "7337b489",
   "metadata": {},
   "outputs": [],
   "source": [
    "glu_df_f, _ = pyreadstat.read_xport(\"GLU_F.xpt\")\n",
    "bio_df_f = pd.read_sas(\"BIOPRO_F.XPT\", format='xport', encoding='latin1')\n",
    "gfr_df_f, _ = pyreadstat.read_xport(\"ALB_CR_F.xpt\")\n",
    "smq_df_f, _ = pyreadstat.read_xport(\"SMQ_F.xpt\")\n",
    "alq_df_f, _ = pyreadstat.read_xport(\"ALQ_F.xpt\")\n",
    "demo_df_f, _ = pyreadstat.read_xport(\"DEMO_F.xpt\")\n",
    "diq_df_f, _ = pyreadstat.read_xport(\"DIQ_F.xpt\")"
   ]
  },
  {
   "cell_type": "code",
   "execution_count": 35,
   "id": "b018831a",
   "metadata": {},
   "outputs": [],
   "source": [
    "glu_df_f = glu_df_f[['SEQN', 'LBXGLU', 'LBXIN']]     \n",
    "bio_df_f = bio_df_f[['SEQN', 'LBXSBU', 'LBXSCR', 'LBXSATSI']]  \n",
    "gfr_df_f = gfr_df_f[['SEQN', 'URDACT']]  \n",
    "smq_df_f = smq_df_f[['SEQN', 'SMQ020', 'SMQ040']]  \n",
    "alq_df_f = alq_df_f[['SEQN', 'ALQ110', 'ALQ120Q', 'ALQ120U', 'ALQ130']]  \n",
    "demo_df_f = demo_df_f[['SEQN', 'RIDAGEYR', 'RIAGENDR', 'DMDEDUC2', 'INDFMPIR']]  \n",
    "diq_df_f = diq_df_f[['SEQN', 'DIQ010', 'DID040', 'DIQ050', 'DIQ070']]"
   ]
  },
  {
   "cell_type": "code",
   "execution_count": 36,
   "id": "fe133335",
   "metadata": {},
   "outputs": [],
   "source": [
    "merged_df_f = glu_df_f.merge(bio_df_f, on='SEQN', how='inner') \\\n",
    "                    .merge(gfr_df_f, on='SEQN', how='inner') \\\n",
    "                    .merge(smq_df_f, on='SEQN', how='inner') \\\n",
    "                    .merge(alq_df_f, on='SEQN', how='inner') \\\n",
    "                    .merge(demo_df_f, on='SEQN', how='inner') \\\n",
    "                    .merge(diq_df_f, on='SEQN', how='inner')\n",
    "\n",
    "merged_df_f['SurveyCycle'] = '2009-2010'\n",
    "merged_df_f.to_csv(\"merged_nhanes_2009_2010.csv\", index=False)"
   ]
  },
  {
   "cell_type": "markdown",
   "id": "913aa0ef",
   "metadata": {},
   "source": [
    "### 2011-2012"
   ]
  },
  {
   "cell_type": "code",
   "execution_count": 32,
   "id": "82a35123",
   "metadata": {},
   "outputs": [],
   "source": [
    "glu_df_g, _ = pyreadstat.read_xport(\"GLU_G.xpt\")\n",
    "bio_df_g = pd.read_sas(\"BIOPRO_G.XPT\", format='xport', encoding='latin1')\n",
    "gfr_df_g, _ = pyreadstat.read_xport(\"ALB_CR_G.xpt\")\n",
    "smq_df_g, _ = pyreadstat.read_xport(\"SMQ_G.xpt\")\n",
    "alq_df_g, _ = pyreadstat.read_xport(\"ALQ_G.xpt\")\n",
    "demo_df_g, _ = pyreadstat.read_xport(\"DEMO_G.xpt\")\n",
    "diq_df_g, _ = pyreadstat.read_xport(\"DIQ_G.xpt\")"
   ]
  },
  {
   "cell_type": "code",
   "execution_count": 37,
   "id": "7e4e083b",
   "metadata": {},
   "outputs": [],
   "source": [
    "glu_df_g = glu_df_g[['SEQN', 'LBXGLU', 'LBXIN']]     \n",
    "bio_df_g = bio_df_g[['SEQN', 'LBXSBU', 'LBXSCR', 'LBXSATSI']]  \n",
    "gfr_df_g = gfr_df_g[['SEQN', 'URDACT']]  \n",
    "smq_df_g = smq_df_g[['SEQN', 'SMQ020', 'SMQ040']]  \n",
    "alq_df_g = alq_df_g[['SEQN', 'ALQ110', 'ALQ120Q', 'ALQ120U', 'ALQ130']]  \n",
    "demo_df_g = demo_df_g[['SEQN', 'RIDAGEYR', 'RIAGENDR', 'DMDEDUC2', 'INDFMPIR']]  \n",
    "diq_df_g = diq_df_g[['SEQN', 'DIQ010', 'DID040', 'DIQ050', 'DIQ070']]"
   ]
  },
  {
   "cell_type": "code",
   "execution_count": 38,
   "id": "fb42648d",
   "metadata": {},
   "outputs": [],
   "source": [
    "merged_df_g = glu_df_g.merge(bio_df_g, on='SEQN', how='inner') \\\n",
    "                    .merge(gfr_df_g, on='SEQN', how='inner') \\\n",
    "                    .merge(smq_df_g, on='SEQN', how='inner') \\\n",
    "                    .merge(alq_df_g, on='SEQN', how='inner') \\\n",
    "                    .merge(demo_df_g, on='SEQN', how='inner') \\\n",
    "                    .merge(diq_df_g, on='SEQN', how='inner')\n",
    "\n",
    "merged_df_g['SurveyCycle'] = '2011-2012'\n",
    "merged_df_g.to_csv(\"merged_nhanes_2011_2012.csv\", index=False)"
   ]
  },
  {
   "cell_type": "markdown",
   "id": "2aeda9a5",
   "metadata": {},
   "source": [
    "### 2013-2014"
   ]
  },
  {
   "cell_type": "code",
   "execution_count": 77,
   "id": "c6a31bfb",
   "metadata": {},
   "outputs": [],
   "source": [
    "glu_df_h, _ = pyreadstat.read_xport(\"GLU_H.xpt\")\n",
    "ins_df_h, _ = pyreadstat.read_xport(\"INS_H.xpt\")\n",
    "bio_df_h = pd.read_sas(\"BIOPRO_H.XPT\", format='xport', encoding='latin1')\n",
    "gfr_df_h, _ = pyreadstat.read_xport(\"ALB_CR_H.xpt\")\n",
    "smq_df_h, _ = pyreadstat.read_xport(\"SMQ_H.xpt\")\n",
    "alq_df_h, _ = pyreadstat.read_xport(\"ALQ_H.xpt\")\n",
    "demo_df_h, _ = pyreadstat.read_xport(\"DEMO_H.xpt\")\n",
    "diq_df_h, _ = pyreadstat.read_xport(\"DIQ_H.xpt\")"
   ]
  },
  {
   "cell_type": "code",
   "execution_count": 78,
   "id": "287790dc",
   "metadata": {},
   "outputs": [],
   "source": [
    "glu_df_h = glu_df_h[['SEQN', 'LBXGLU']]\n",
    "ins_df_h = ins_df_h[['SEQN', 'LBXIN']]\n",
    "bio_df_h = bio_df_h[['SEQN', 'LBXSBU', 'LBXSCR', 'LBXSATSI']]  \n",
    "gfr_df_h = gfr_df_h[['SEQN', 'URDACT']]  \n",
    "smq_df_h = smq_df_h[['SEQN', 'SMQ020', 'SMQ040']]  \n",
    "alq_df_h = alq_df_h[['SEQN', 'ALQ110', 'ALQ120Q', 'ALQ120U', 'ALQ130']]  \n",
    "demo_df_h = demo_df_h[['SEQN', 'RIDAGEYR', 'RIAGENDR', 'DMDEDUC2', 'INDFMPIR']]  \n",
    "diq_df_h = diq_df_h[['SEQN', 'DIQ010', 'DID040', 'DIQ050', 'DIQ070']]"
   ]
  },
  {
   "cell_type": "code",
   "execution_count": 79,
   "id": "0fa0470d",
   "metadata": {},
   "outputs": [],
   "source": [
    "merged_df_h = glu_df_h.merge(ins_df_h, on='SEQN', how='inner') \\\n",
    "                  .merge(bio_df_h, on='SEQN', how='inner') \\\n",
    "                  .merge(gfr_df_h, on='SEQN', how='inner') \\\n",
    "                  .merge(smq_df_h, on='SEQN', how='inner') \\\n",
    "                  .merge(alq_df_h, on='SEQN', how='inner') \\\n",
    "                  .merge(demo_df_h, on='SEQN', how='inner') \\\n",
    "                  .merge(diq_df_h, on='SEQN', how='inner')\n",
    "\n",
    "merged_df_h['SurveyCycle'] = '2013-2014'\n",
    "merged_df_h.to_csv(\"merged_nhanes_2013_2014.csv\", index=False)"
   ]
  },
  {
   "cell_type": "markdown",
   "id": "e29ee264",
   "metadata": {},
   "source": [
    "### 2015-2016"
   ]
  },
  {
   "cell_type": "code",
   "execution_count": 81,
   "id": "22016115",
   "metadata": {},
   "outputs": [],
   "source": [
    "glu_df_i, _ = pyreadstat.read_xport(\"GLU_I.xpt\")\n",
    "ins_df_i, _ = pyreadstat.read_xport(\"INS_I.xpt\")\n",
    "bio_df_i = pd.read_sas(\"BIOPRO_I.XPT\", format='xport', encoding='latin1')\n",
    "gfr_df_i, _ = pyreadstat.read_xport(\"ALB_CR_I.xpt\")\n",
    "smq_df_i, _ = pyreadstat.read_xport(\"SMQ_I.xpt\")\n",
    "alq_df_i, _ = pyreadstat.read_xport(\"ALQ_I.xpt\")\n",
    "demo_df_i, _ = pyreadstat.read_xport(\"DEMO_I (1).xpt\")\n",
    "diq_df_i, _ = pyreadstat.read_xport(\"DIQ_I.xpt\")"
   ]
  },
  {
   "cell_type": "code",
   "execution_count": 82,
   "id": "d894b596",
   "metadata": {},
   "outputs": [],
   "source": [
    "glu_df_i = glu_df_i[['SEQN', 'LBXGLU']]\n",
    "ins_df_i = ins_df_i[['SEQN', 'LBXIN']]\n",
    "bio_df_i = bio_df_i[['SEQN', 'LBXSBU', 'LBXSCR', 'LBXSATSI']]  \n",
    "gfr_df_i = gfr_df_i[['SEQN', 'URDACT']]  \n",
    "smq_df_i = smq_df_i[['SEQN', 'SMQ020', 'SMQ040']]  \n",
    "alq_df_i = alq_df_i[['SEQN', 'ALQ110', 'ALQ120Q', 'ALQ120U', 'ALQ130']]  \n",
    "demo_df_i = demo_df_i[['SEQN', 'RIDAGEYR', 'RIAGENDR', 'DMDEDUC2', 'INDFMPIR']]  \n",
    "diq_df_i = diq_df_i[['SEQN', 'DIQ010', 'DID040', 'DIQ050', 'DIQ070']]"
   ]
  },
  {
   "cell_type": "code",
   "execution_count": 83,
   "id": "bb444907",
   "metadata": {},
   "outputs": [],
   "source": [
    "merged_df_i = glu_df_i.merge(ins_df_i, on='SEQN', how='inner') \\\n",
    "                  .merge(bio_df_i, on='SEQN', how='inner') \\\n",
    "                  .merge(gfr_df_i, on='SEQN', how='inner') \\\n",
    "                  .merge(smq_df_i, on='SEQN', how='inner') \\\n",
    "                  .merge(alq_df_i, on='SEQN', how='inner') \\\n",
    "                  .merge(demo_df_i, on='SEQN', how='inner') \\\n",
    "                  .merge(diq_df_i, on='SEQN', how='inner')\n",
    "\n",
    "merged_df_i['SurveyCycle'] = '2015-2016'\n",
    "merged_df_i.to_csv(\"merged_nhanes_2015_2016.csv\", index=False)"
   ]
  },
  {
   "cell_type": "markdown",
   "id": "02be3e7e",
   "metadata": {},
   "source": [
    "### 2017-2020"
   ]
  },
  {
   "cell_type": "code",
   "execution_count": 121,
   "id": "6288c4ed",
   "metadata": {},
   "outputs": [],
   "source": [
    "glu_df_p, _ = pyreadstat.read_xport(\"P_GLU (1).xpt\")\n",
    "ins_df_p = pd.read_sas(\"P_INS (1).XPT\", format='xport', encoding='latin1')\n",
    "bio_df_p = pd.read_sas(\"P_BIOPRO (1).XPT\", format='xport', encoding='latin1')\n",
    "gfr_df_p, _ = pyreadstat.read_xport(\"P_ALB_CR (1).xpt\")\n",
    "smq_df_p, _ = pyreadstat.read_xport(\"P_SMQ (1).xpt\")\n",
    "alq_df_p, _ = pyreadstat.read_xport(\"P_ALQ (1).xpt\")\n",
    "demo_df_p, _ = pyreadstat.read_xport(\"P_DEMO (1).xpt\")\n",
    "diq_df_p, _ = pyreadstat.read_xport(\"P_DIQ (1).xpt\")"
   ]
  },
  {
   "cell_type": "code",
   "execution_count": 122,
   "id": "be35be05",
   "metadata": {},
   "outputs": [],
   "source": [
    "glu_df_p = glu_df_p[['SEQN', 'LBXGLU']]\n",
    "ins_df_p = ins_df_p[['SEQN', 'LBXIN']]\n",
    "bio_df_p = bio_df_p[['SEQN', 'LBXSBU', 'LBXSCR', 'LBXSATSI']]  \n",
    "gfr_df_p = gfr_df_p[['SEQN', 'URDACT']]  \n",
    "smq_df_p = smq_df_p[['SEQN', 'SMQ020', 'SMQ040']]  \n",
    "alq_df_p = alq_df_p[['SEQN', 'ALQ111','ALQ121','ALQ130']]  \n",
    "demo_df_p = demo_df_p[['SEQN', 'RIDAGEYR', 'RIAGENDR', 'DMDEDUC2', 'INDFMPIR']]  \n",
    "diq_df_p = diq_df_p[['SEQN', 'DIQ010', 'DID040', 'DIQ050', 'DIQ070']]\n",
    "alq_df_p = alq_df_p.rename(columns={\n",
    "    'ALQ111': 'EverDrank', \n",
    "    'ALQ121': 'DrinkFrequency', \n",
    "    'ALQ130': 'AvgDrinksPerDay'\n",
    "})"
   ]
  },
  {
   "cell_type": "code",
   "execution_count": 123,
   "id": "2fe8e0f2",
   "metadata": {},
   "outputs": [],
   "source": [
    "merged_df_p = glu_df_p.merge(ins_df_p, on='SEQN', how='inner') \\\n",
    "                  .merge(bio_df_p, on='SEQN', how='inner') \\\n",
    "                  .merge(gfr_df_p, on='SEQN', how='inner') \\\n",
    "                  .merge(smq_df_p, on='SEQN', how='inner') \\\n",
    "                  .merge(alq_df_p, on='SEQN', how='inner') \\\n",
    "                  .merge(demo_df_p, on='SEQN', how='inner') \\\n",
    "                  .merge(diq_df_p, on='SEQN', how='inner')\n",
    "\n",
    "merged_df_p['SurveyCycle'] = '2017-2020'\n",
    "merged_df_p.to_csv(\"merged_nhanes_2017_2020_3.csv\", index=False)"
   ]
  },
  {
   "cell_type": "markdown",
   "id": "9bd71701",
   "metadata": {},
   "source": [
    "### Cleaning Time TT"
   ]
  },
  {
   "cell_type": "markdown",
   "id": "35d70b89",
   "metadata": {},
   "source": [
    "#### 1999-2000"
   ]
  },
  {
   "cell_type": "code",
   "execution_count": 181,
   "id": "e896e5ca",
   "metadata": {},
   "outputs": [],
   "source": [
    "df_9900 = pd.read_csv('merged_nhanes_1999_2000_2.csv')"
   ]
  },
  {
   "cell_type": "code",
   "execution_count": 182,
   "id": "af2b76ee",
   "metadata": {},
   "outputs": [
    {
     "data": {
      "text/plain": [
       "['SEQN',\n",
       " 'LBXGLU',\n",
       " 'LBXIN',\n",
       " 'LBXSBU',\n",
       " 'LBXSCR',\n",
       " 'LBXSATSI',\n",
       " 'URXUMS',\n",
       " 'URXUCR',\n",
       " 'SMQ020',\n",
       " 'SMQ040',\n",
       " 'ALQ110',\n",
       " 'ALQ120Q',\n",
       " 'ALQ130',\n",
       " 'RIDAGEYR',\n",
       " 'RIAGENDR',\n",
       " 'DMDEDUC2',\n",
       " 'INDFMPIR',\n",
       " 'DIQ010',\n",
       " 'DID040',\n",
       " 'DIQ050',\n",
       " 'DIQ070',\n",
       " 'SurveyCycle',\n",
       " 'URDACT',\n",
       " 'URDACT_filled']"
      ]
     },
     "execution_count": 182,
     "metadata": {},
     "output_type": "execute_result"
    }
   ],
   "source": [
    "list(df_9900.columns.values)"
   ]
  },
  {
   "cell_type": "code",
   "execution_count": 183,
   "id": "06a4be4a",
   "metadata": {},
   "outputs": [
    {
     "data": {
      "text/plain": [
       "(2188, 21)"
      ]
     },
     "execution_count": 183,
     "metadata": {},
     "output_type": "execute_result"
    }
   ],
   "source": [
    "df_9900 = df_9900.rename(columns={\n",
    "    'ALQ110': 'EverDrank',\n",
    "    'ALQ120Q': 'DrinkFrequency',\n",
    "    'ALQ130': 'AvgDrinksPerDay'\n",
    "})\n",
    "df_9900 = df_9900.drop(columns=['URXUMS', 'URXUCR', 'URDACT'], errors='ignore')\n",
    "df_9900 = df_9900.rename(columns={'URDACT_filled': 'URDACT'})\n",
    "df_9900.shape"
   ]
  },
  {
   "cell_type": "code",
   "execution_count": 184,
   "id": "0bd7c39c",
   "metadata": {},
   "outputs": [],
   "source": [
    "df_9900.to_csv(\"merged_nhanes_1999_2000_cleaned.csv\", index=False)"
   ]
  },
  {
   "cell_type": "markdown",
   "id": "11f45373",
   "metadata": {},
   "source": [
    "#### 2001-2002"
   ]
  },
  {
   "cell_type": "code",
   "execution_count": 192,
   "id": "6348ef2b",
   "metadata": {},
   "outputs": [],
   "source": [
    "df_0102 = pd.read_csv('merged_nhanes_2001_2002_2.csv')"
   ]
  },
  {
   "cell_type": "code",
   "execution_count": 193,
   "id": "0288699b",
   "metadata": {},
   "outputs": [
    {
     "data": {
      "text/plain": [
       "['SEQN',\n",
       " 'LBXGLU',\n",
       " 'LBXIN',\n",
       " 'LBXSBU',\n",
       " 'LBXSCR',\n",
       " 'LBXSATSI',\n",
       " 'URXUMS',\n",
       " 'URXUCR',\n",
       " 'SMQ020',\n",
       " 'SMQ040',\n",
       " 'ALQ110',\n",
       " 'ALQ120Q',\n",
       " 'ALQ130',\n",
       " 'RIDAGEYR',\n",
       " 'RIAGENDR',\n",
       " 'DMDEDUC2',\n",
       " 'INDFMPIR',\n",
       " 'DIQ010',\n",
       " 'DID040',\n",
       " 'DIQ050',\n",
       " 'DIQ070',\n",
       " 'SurveyCycle',\n",
       " 'URDACT',\n",
       " 'URDACT_filled']"
      ]
     },
     "execution_count": 193,
     "metadata": {},
     "output_type": "execute_result"
    }
   ],
   "source": [
    "list(df_0102.columns.values)"
   ]
  },
  {
   "cell_type": "code",
   "execution_count": 194,
   "id": "bce223ea",
   "metadata": {},
   "outputs": [
    {
     "data": {
      "text/plain": [
       "(2508, 21)"
      ]
     },
     "execution_count": 194,
     "metadata": {},
     "output_type": "execute_result"
    }
   ],
   "source": [
    "df_0102 = df_0102.rename(columns={\n",
    "    'ALQ110': 'EverDrank',\n",
    "    'ALQ120Q': 'DrinkFrequency',\n",
    "    'ALQ130': 'AvgDrinksPerDay'\n",
    "})\n",
    "df_0102 = df_0102.drop(columns=['URXUMS', 'URXUCR', 'URDACT'], errors='ignore')\n",
    "df_0102 = df_0102.rename(columns={'URDACT_filled': 'URDACT'})\n",
    "df_0102.shape"
   ]
  },
  {
   "cell_type": "code",
   "execution_count": 195,
   "id": "677f36c1",
   "metadata": {},
   "outputs": [],
   "source": [
    "df_0102.to_csv(\"merged_nhanes_2001_2002_cleaned.csv\", index=False)"
   ]
  },
  {
   "cell_type": "markdown",
   "id": "373f24a2",
   "metadata": {},
   "source": [
    "#### 2003-2004"
   ]
  },
  {
   "cell_type": "code",
   "execution_count": 196,
   "id": "584a37e3",
   "metadata": {},
   "outputs": [],
   "source": [
    "df_0304 = pd.read_csv('merged_nhanes_2003_2004_2.csv')"
   ]
  },
  {
   "cell_type": "code",
   "execution_count": 197,
   "id": "14f11d83",
   "metadata": {},
   "outputs": [
    {
     "data": {
      "text/plain": [
       "['SEQN',\n",
       " 'LBXGLU',\n",
       " 'LBXIN',\n",
       " 'LBXSBU',\n",
       " 'LBXSCR',\n",
       " 'LBXSATSI',\n",
       " 'URXUMS',\n",
       " 'URXUCR',\n",
       " 'SMQ020',\n",
       " 'SMQ040',\n",
       " 'ALQ110',\n",
       " 'ALQ120Q',\n",
       " 'ALQ130',\n",
       " 'RIDAGEYR',\n",
       " 'RIAGENDR',\n",
       " 'DMDEDUC2',\n",
       " 'INDFMPIR',\n",
       " 'DIQ010',\n",
       " 'DID040',\n",
       " 'DIQ050',\n",
       " 'DIQ070',\n",
       " 'SurveyCycle',\n",
       " 'URDACT',\n",
       " 'URDACT_filled']"
      ]
     },
     "execution_count": 197,
     "metadata": {},
     "output_type": "execute_result"
    }
   ],
   "source": [
    "list(df_0304.columns.values)"
   ]
  },
  {
   "cell_type": "code",
   "execution_count": 198,
   "id": "9e50a090",
   "metadata": {},
   "outputs": [
    {
     "data": {
      "text/plain": [
       "(2247, 21)"
      ]
     },
     "execution_count": 198,
     "metadata": {},
     "output_type": "execute_result"
    }
   ],
   "source": [
    "df_0304 = df_0304.rename(columns={\n",
    "    'ALQ110': 'EverDrank',\n",
    "    'ALQ120Q': 'DrinkFrequency',\n",
    "    'ALQ130': 'AvgDrinksPerDay'\n",
    "})\n",
    "df_0304 = df_0304.drop(columns=['URXUMS', 'URXUCR', 'URDACT'], errors='ignore')\n",
    "df_0304 = df_0304.rename(columns={'URDACT_filled': 'URDACT'})\n",
    "df_0304.shape"
   ]
  },
  {
   "cell_type": "code",
   "execution_count": 199,
   "id": "c6eeb0fa",
   "metadata": {},
   "outputs": [],
   "source": [
    "df_0304.to_csv(\"merged_nhanes_2003_2004_cleaned.csv\", index=False)"
   ]
  },
  {
   "cell_type": "markdown",
   "id": "ea371c3d",
   "metadata": {},
   "source": [
    "#### 2005-2006"
   ]
  },
  {
   "cell_type": "code",
   "execution_count": 208,
   "id": "c06245fd",
   "metadata": {},
   "outputs": [],
   "source": [
    "df_0506 = pd.read_csv('merged_nhanes_2005_2006_3.csv')"
   ]
  },
  {
   "cell_type": "code",
   "execution_count": 209,
   "id": "a8c8f2b8",
   "metadata": {},
   "outputs": [
    {
     "data": {
      "text/plain": [
       "['SEQN',\n",
       " 'LBXGLU',\n",
       " 'LBXIN',\n",
       " 'LBXSBU',\n",
       " 'LBXSCR',\n",
       " 'LBXSATSI',\n",
       " 'URXUMS',\n",
       " 'URXUCR',\n",
       " 'SMQ020',\n",
       " 'SMQ040',\n",
       " 'ALQ110',\n",
       " 'ALQ120Q',\n",
       " 'ALQ130',\n",
       " 'RIDAGEYR',\n",
       " 'RIAGENDR',\n",
       " 'DMDEDUC2',\n",
       " 'INDFMPIR',\n",
       " 'DIQ010',\n",
       " 'DID040',\n",
       " 'DIQ050',\n",
       " 'DIQ070',\n",
       " 'SurveyCycle',\n",
       " 'URDACT',\n",
       " 'URDACT_filled']"
      ]
     },
     "execution_count": 209,
     "metadata": {},
     "output_type": "execute_result"
    }
   ],
   "source": [
    "list(df_0506.columns.values)"
   ]
  },
  {
   "cell_type": "code",
   "execution_count": 210,
   "id": "cfd336a2",
   "metadata": {},
   "outputs": [
    {
     "data": {
      "text/plain": [
       "(2289, 21)"
      ]
     },
     "execution_count": 210,
     "metadata": {},
     "output_type": "execute_result"
    }
   ],
   "source": [
    "df_0506 = df_0506.rename(columns={\n",
    "    'ALQ110': 'EverDrank',\n",
    "    'ALQ120Q': 'DrinkFrequency',\n",
    "    'ALQ130': 'AvgDrinksPerDay'\n",
    "})\n",
    "df_0506 = df_0506.drop(columns=['URXUMS', 'URXUCR', 'URDACT'], errors='ignore')\n",
    "df_0506 = df_0506.rename(columns={'URDACT_filled': 'URDACT'})\n",
    "df_0506.shape"
   ]
  },
  {
   "cell_type": "code",
   "execution_count": 212,
   "id": "b3409e7a",
   "metadata": {},
   "outputs": [],
   "source": [
    "df_0506.to_csv(\"merged_nhanes_2005_2006_cleaned.csv\", index=False)"
   ]
  },
  {
   "cell_type": "markdown",
   "id": "4ae2d686",
   "metadata": {},
   "source": [
    "#### 2007-2008"
   ]
  },
  {
   "cell_type": "code",
   "execution_count": 51,
   "id": "59b59492",
   "metadata": {},
   "outputs": [],
   "source": [
    "df_0708 = pd.read_csv('merged_nhanes_2007_2008_3.csv')"
   ]
  },
  {
   "cell_type": "code",
   "execution_count": 54,
   "id": "133eb276",
   "metadata": {},
   "outputs": [],
   "source": [
    "df_0708 = df_0708.rename(columns={\n",
    "    'ALQ110': 'EverDrank',\n",
    "    'ALQ120Q': 'DrinkFrequency',\n",
    "    'ALQ130': 'AvgDrinksPerDay'\n",
    "})\n",
    "df_0708 = df_0708.drop(columns=['URXUMS', 'URXUCR', 'ALQ120U'], errors='ignore')\n",
    "df_0708.to_csv(\"merged_nhanes_2007_2008_cleaned.csv\", index=False)"
   ]
  },
  {
   "cell_type": "code",
   "execution_count": 55,
   "id": "3e9e3b64",
   "metadata": {},
   "outputs": [
    {
     "data": {
      "text/plain": [
       "(2776, 22)"
      ]
     },
     "execution_count": 55,
     "metadata": {},
     "output_type": "execute_result"
    }
   ],
   "source": [
    "df_0708.shape"
   ]
  },
  {
   "cell_type": "code",
   "execution_count": 57,
   "id": "e491a677",
   "metadata": {},
   "outputs": [],
   "source": [
    "df_0708 = pd.read_csv(\"merged_nhanes_2007_2008_cleaned.csv\")\n",
    "df_0708 = df_0708.drop(columns=['URDACT'], errors='ignore')\n",
    "df_0708 = df_0708.rename(columns={'URDACT_filled': 'URDACT'})\n",
    "df_0708.to_csv(\"merged_nhanes_2007_2008_cleaned.csv\", index=False)"
   ]
  },
  {
   "cell_type": "code",
   "execution_count": 59,
   "id": "e7966089",
   "metadata": {},
   "outputs": [
    {
     "data": {
      "text/plain": [
       "(2776, 21)"
      ]
     },
     "execution_count": 59,
     "metadata": {},
     "output_type": "execute_result"
    }
   ],
   "source": [
    "df_0708.shape"
   ]
  },
  {
   "cell_type": "code",
   "execution_count": 61,
   "id": "f45eb27a",
   "metadata": {},
   "outputs": [
    {
     "data": {
      "text/plain": [
       "['SEQN',\n",
       " 'LBXGLU',\n",
       " 'LBXIN',\n",
       " 'LBXSBU',\n",
       " 'LBXSCR',\n",
       " 'LBXSATSI',\n",
       " 'SMQ020',\n",
       " 'SMQ040',\n",
       " 'EverDrank',\n",
       " 'DrinkFrequency',\n",
       " 'AvgDrinksPerDay',\n",
       " 'RIDAGEYR',\n",
       " 'RIAGENDR',\n",
       " 'DMDEDUC2',\n",
       " 'INDFMPIR',\n",
       " 'DIQ010',\n",
       " 'DID040',\n",
       " 'DIQ050',\n",
       " 'DIQ070',\n",
       " 'SurveyCycle',\n",
       " 'URDACT']"
      ]
     },
     "execution_count": 61,
     "metadata": {},
     "output_type": "execute_result"
    }
   ],
   "source": [
    "list(df_0708.columns.values)"
   ]
  },
  {
   "cell_type": "markdown",
   "id": "26032512",
   "metadata": {},
   "source": [
    "#### 2009-2010"
   ]
  },
  {
   "cell_type": "code",
   "execution_count": 53,
   "id": "38f04e7b",
   "metadata": {},
   "outputs": [],
   "source": [
    "df_0910 = pd.read_csv('merged_nhanes_2009_2010.csv')"
   ]
  },
  {
   "cell_type": "code",
   "execution_count": 56,
   "id": "f4601c2b",
   "metadata": {},
   "outputs": [
    {
     "data": {
      "text/plain": [
       "(2926, 21)"
      ]
     },
     "execution_count": 56,
     "metadata": {},
     "output_type": "execute_result"
    }
   ],
   "source": [
    "df_0910 = df_0910.rename(columns={\n",
    "    'ALQ110': 'EverDrank',\n",
    "    'ALQ120Q': 'DrinkFrequency',\n",
    "    'ALQ130': 'AvgDrinksPerDay'\n",
    "})\n",
    "df_0910 = df_0910.drop(columns=['URXUMS', 'URXUCR','ALQ120U'], errors='ignore')\n",
    "df_0910.shape"
   ]
  },
  {
   "cell_type": "code",
   "execution_count": 60,
   "id": "682da5b9",
   "metadata": {},
   "outputs": [],
   "source": [
    "df_0910.to_csv(\"merged_nhanes_2009_2010_cleaned.csv\", index=False)"
   ]
  },
  {
   "cell_type": "code",
   "execution_count": 62,
   "id": "f433a8f6",
   "metadata": {},
   "outputs": [
    {
     "data": {
      "text/plain": [
       "['SEQN',\n",
       " 'LBXGLU',\n",
       " 'LBXIN',\n",
       " 'LBXSBU',\n",
       " 'LBXSCR',\n",
       " 'LBXSATSI',\n",
       " 'URDACT',\n",
       " 'SMQ020',\n",
       " 'SMQ040',\n",
       " 'EverDrank',\n",
       " 'DrinkFrequency',\n",
       " 'AvgDrinksPerDay',\n",
       " 'RIDAGEYR',\n",
       " 'RIAGENDR',\n",
       " 'DMDEDUC2',\n",
       " 'INDFMPIR',\n",
       " 'DIQ010',\n",
       " 'DID040',\n",
       " 'DIQ050',\n",
       " 'DIQ070',\n",
       " 'SurveyCycle']"
      ]
     },
     "execution_count": 62,
     "metadata": {},
     "output_type": "execute_result"
    }
   ],
   "source": [
    "list(df_0910.columns.values)"
   ]
  },
  {
   "cell_type": "markdown",
   "id": "fdb6caf8",
   "metadata": {},
   "source": [
    "#### 2011-2012"
   ]
  },
  {
   "cell_type": "code",
   "execution_count": 63,
   "id": "5c9ca42f",
   "metadata": {},
   "outputs": [],
   "source": [
    "df_1112 = pd.read_csv('merged_nhanes_2011_2012.csv')"
   ]
  },
  {
   "cell_type": "code",
   "execution_count": 64,
   "id": "32078adb",
   "metadata": {},
   "outputs": [
    {
     "data": {
      "text/plain": [
       "(2765, 21)"
      ]
     },
     "execution_count": 64,
     "metadata": {},
     "output_type": "execute_result"
    }
   ],
   "source": [
    "df_1112 = df_1112.rename(columns={\n",
    "    'ALQ110': 'EverDrank',\n",
    "    'ALQ120Q': 'DrinkFrequency',\n",
    "    'ALQ130': 'AvgDrinksPerDay'\n",
    "})\n",
    "df_1112 = df_1112.drop(columns=['URXUMS', 'URXUCR','ALQ120U'], errors='ignore')\n",
    "df_1112.shape"
   ]
  },
  {
   "cell_type": "code",
   "execution_count": 65,
   "id": "d1f65d88",
   "metadata": {},
   "outputs": [],
   "source": [
    "df_1112.to_csv(\"merged_nhanes_2011_2012_cleaned.csv\", index=False)"
   ]
  },
  {
   "cell_type": "code",
   "execution_count": 66,
   "id": "2dc1931d",
   "metadata": {},
   "outputs": [
    {
     "data": {
      "text/plain": [
       "['SEQN',\n",
       " 'LBXGLU',\n",
       " 'LBXIN',\n",
       " 'LBXSBU',\n",
       " 'LBXSCR',\n",
       " 'LBXSATSI',\n",
       " 'URDACT',\n",
       " 'SMQ020',\n",
       " 'SMQ040',\n",
       " 'EverDrank',\n",
       " 'DrinkFrequency',\n",
       " 'AvgDrinksPerDay',\n",
       " 'RIDAGEYR',\n",
       " 'RIAGENDR',\n",
       " 'DMDEDUC2',\n",
       " 'INDFMPIR',\n",
       " 'DIQ010',\n",
       " 'DID040',\n",
       " 'DIQ050',\n",
       " 'DIQ070',\n",
       " 'SurveyCycle']"
      ]
     },
     "execution_count": 66,
     "metadata": {},
     "output_type": "execute_result"
    }
   ],
   "source": [
    "list(df_1112.columns.values)"
   ]
  },
  {
   "cell_type": "markdown",
   "id": "f24a0e46",
   "metadata": {},
   "source": [
    "#### 2013-2014"
   ]
  },
  {
   "cell_type": "code",
   "execution_count": 88,
   "id": "d67a492e",
   "metadata": {},
   "outputs": [],
   "source": [
    "df_1314 = pd.read_csv('merged_nhanes_2013_2014.csv')"
   ]
  },
  {
   "cell_type": "code",
   "execution_count": 89,
   "id": "f5cb545a",
   "metadata": {},
   "outputs": [
    {
     "data": {
      "text/plain": [
       "(2840, 21)"
      ]
     },
     "execution_count": 89,
     "metadata": {},
     "output_type": "execute_result"
    }
   ],
   "source": [
    "df_1314 = df_1314.rename(columns={\n",
    "    'ALQ110': 'EverDrank',\n",
    "    'ALQ120Q': 'DrinkFrequency',\n",
    "    'ALQ130': 'AvgDrinksPerDay'\n",
    "})\n",
    "df_1314 = df_1314.drop(columns=['ALQ120U'], errors='ignore')\n",
    "df_1314.shape"
   ]
  },
  {
   "cell_type": "code",
   "execution_count": 90,
   "id": "81de4478",
   "metadata": {
    "scrolled": true
   },
   "outputs": [
    {
     "data": {
      "text/plain": [
       "['SEQN',\n",
       " 'LBXGLU',\n",
       " 'LBXIN',\n",
       " 'LBXSBU',\n",
       " 'LBXSCR',\n",
       " 'LBXSATSI',\n",
       " 'URDACT',\n",
       " 'SMQ020',\n",
       " 'SMQ040',\n",
       " 'EverDrank',\n",
       " 'DrinkFrequency',\n",
       " 'AvgDrinksPerDay',\n",
       " 'RIDAGEYR',\n",
       " 'RIAGENDR',\n",
       " 'DMDEDUC2',\n",
       " 'INDFMPIR',\n",
       " 'DIQ010',\n",
       " 'DID040',\n",
       " 'DIQ050',\n",
       " 'DIQ070',\n",
       " 'SurveyCycle']"
      ]
     },
     "execution_count": 90,
     "metadata": {},
     "output_type": "execute_result"
    }
   ],
   "source": [
    "list(df_1314.columns.values)"
   ]
  },
  {
   "cell_type": "code",
   "execution_count": 96,
   "id": "a861f037",
   "metadata": {},
   "outputs": [],
   "source": [
    "df_1314.to_csv(\"merged_nhanes_2013_2014_cleaned.csv\", index=False)"
   ]
  },
  {
   "cell_type": "markdown",
   "id": "3fee5668",
   "metadata": {},
   "source": [
    "#### 2015-2016"
   ]
  },
  {
   "cell_type": "code",
   "execution_count": 91,
   "id": "8d69348b",
   "metadata": {},
   "outputs": [],
   "source": [
    "df_1516 = pd.read_csv('merged_nhanes_2015_2016.csv')"
   ]
  },
  {
   "cell_type": "code",
   "execution_count": 92,
   "id": "75558ed1",
   "metadata": {},
   "outputs": [
    {
     "data": {
      "text/plain": [
       "(2729, 21)"
      ]
     },
     "execution_count": 92,
     "metadata": {},
     "output_type": "execute_result"
    }
   ],
   "source": [
    "df_1516 = df_1516.rename(columns={\n",
    "    'ALQ110': 'EverDrank',\n",
    "    'ALQ120Q': 'DrinkFrequency',\n",
    "    'ALQ130': 'AvgDrinksPerDay'\n",
    "})\n",
    "df_1516 = df_1516.drop(columns=['ALQ120U'], errors='ignore')\n",
    "df_1516.shape"
   ]
  },
  {
   "cell_type": "code",
   "execution_count": 93,
   "id": "26285b0e",
   "metadata": {},
   "outputs": [
    {
     "data": {
      "text/plain": [
       "['SEQN',\n",
       " 'LBXGLU',\n",
       " 'LBXIN',\n",
       " 'LBXSBU',\n",
       " 'LBXSCR',\n",
       " 'LBXSATSI',\n",
       " 'URDACT',\n",
       " 'SMQ020',\n",
       " 'SMQ040',\n",
       " 'EverDrank',\n",
       " 'DrinkFrequency',\n",
       " 'AvgDrinksPerDay',\n",
       " 'RIDAGEYR',\n",
       " 'RIAGENDR',\n",
       " 'DMDEDUC2',\n",
       " 'INDFMPIR',\n",
       " 'DIQ010',\n",
       " 'DID040',\n",
       " 'DIQ050',\n",
       " 'DIQ070',\n",
       " 'SurveyCycle']"
      ]
     },
     "execution_count": 93,
     "metadata": {},
     "output_type": "execute_result"
    }
   ],
   "source": [
    "list(df_1516.columns.values)"
   ]
  },
  {
   "cell_type": "code",
   "execution_count": 97,
   "id": "51aaab31",
   "metadata": {},
   "outputs": [],
   "source": [
    "df_1516.to_csv(\"merged_nhanes_2015_2016_cleaned.csv\", index=False)"
   ]
  },
  {
   "cell_type": "markdown",
   "id": "8eb13192",
   "metadata": {},
   "source": [
    "#### 2017-2020"
   ]
  },
  {
   "cell_type": "code",
   "execution_count": 124,
   "id": "334e3d7d",
   "metadata": {},
   "outputs": [],
   "source": [
    "df_1720 = pd.read_csv('merged_nhanes_2017_2020_3.csv')"
   ]
  },
  {
   "cell_type": "code",
   "execution_count": 125,
   "id": "aed9e8e9",
   "metadata": {},
   "outputs": [
    {
     "data": {
      "text/plain": [
       "['SEQN',\n",
       " 'LBXGLU',\n",
       " 'LBXIN',\n",
       " 'LBXSBU',\n",
       " 'LBXSCR',\n",
       " 'LBXSATSI',\n",
       " 'URDACT',\n",
       " 'SMQ020',\n",
       " 'SMQ040',\n",
       " 'EverDrank',\n",
       " 'DrinkFrequency',\n",
       " 'AvgDrinksPerDay',\n",
       " 'RIDAGEYR',\n",
       " 'RIAGENDR',\n",
       " 'DMDEDUC2',\n",
       " 'INDFMPIR',\n",
       " 'DIQ010',\n",
       " 'DID040',\n",
       " 'DIQ050',\n",
       " 'DIQ070',\n",
       " 'SurveyCycle']"
      ]
     },
     "execution_count": 125,
     "metadata": {},
     "output_type": "execute_result"
    }
   ],
   "source": [
    "list(df_1720.columns.values)"
   ]
  },
  {
   "cell_type": "code",
   "execution_count": 127,
   "id": "15bab368",
   "metadata": {},
   "outputs": [
    {
     "data": {
      "text/plain": [
       "(4438, 21)"
      ]
     },
     "execution_count": 127,
     "metadata": {},
     "output_type": "execute_result"
    }
   ],
   "source": [
    "df_1720.shape"
   ]
  },
  {
   "cell_type": "code",
   "execution_count": 213,
   "id": "0c413d69",
   "metadata": {},
   "outputs": [],
   "source": [
    "df_1720.to_csv(\"merged_nhanes_2017_2020_cleaned.csv\", index=False)"
   ]
  },
  {
   "cell_type": "markdown",
   "id": "45a23f90",
   "metadata": {},
   "source": [
    "Now we are going to combine them all."
   ]
  },
  {
   "cell_type": "code",
   "execution_count": 215,
   "id": "4a858d07",
   "metadata": {},
   "outputs": [],
   "source": [
    "dfs_clean = [\n",
    "    pd.read_csv(\"merged_nhanes_1999_2000_cleaned.csv\"),\n",
    "    pd.read_csv(\"merged_nhanes_2001_2002_cleaned.csv\"),\n",
    "    pd.read_csv(\"merged_nhanes_2003_2004_cleaned.csv\"),\n",
    "    pd.read_csv(\"merged_nhanes_2005_2006_cleaned.csv\"),\n",
    "    pd.read_csv(\"merged_nhanes_2007_2008_cleaned.csv\"),\n",
    "    pd.read_csv(\"merged_nhanes_2009_2010_cleaned.csv\"),\n",
    "    pd.read_csv(\"merged_nhanes_2011_2012_cleaned.csv\"),\n",
    "    pd.read_csv(\"merged_nhanes_2013_2014_cleaned.csv\"),\n",
    "    pd.read_csv(\"merged_nhanes_2015_2016_cleaned.csv\"),\n",
    "    pd.read_csv(\"merged_nhanes_2017_2020_cleaned.csv\"),\n",
    "]\n",
    "\n",
    "combined_df = pd.concat(dfs_clean, ignore_index=True)\n",
    "\n",
    "combined_df.to_csv(\"merged_nhanes_all_years.csv\", index=False)"
   ]
  },
  {
   "cell_type": "code",
   "execution_count": 216,
   "id": "198a78e5",
   "metadata": {},
   "outputs": [
    {
     "data": {
      "text/plain": [
       "(27706, 21)"
      ]
     },
     "execution_count": 216,
     "metadata": {},
     "output_type": "execute_result"
    }
   ],
   "source": [
    "combined_df.shape"
   ]
  },
  {
   "cell_type": "code",
   "execution_count": null,
   "id": "09f4c6b6",
   "metadata": {},
   "outputs": [],
   "source": []
  }
 ],
 "metadata": {
  "kernelspec": {
   "display_name": "Python 3 (ipykernel)",
   "language": "python",
   "name": "python3"
  },
  "language_info": {
   "codemirror_mode": {
    "name": "ipython",
    "version": 3
   },
   "file_extension": ".py",
   "mimetype": "text/x-python",
   "name": "python",
   "nbconvert_exporter": "python",
   "pygments_lexer": "ipython3",
   "version": "3.10.9"
  }
 },
 "nbformat": 4,
 "nbformat_minor": 5
}
