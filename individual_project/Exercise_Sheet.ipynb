{
 "cells": [
  {
   "cell_type": "markdown",
   "id": "ae06f5e9",
   "metadata": {},
   "source": [
    "# 📘 Interactive Exercise Sheet\n",
    "\n",
    "This notebook contains practice exercises based on visualizations from the interactive workshop. Try to recreate the visualizations or answer the questions based on your understanding before checking the answers in the original notebook.\n"
   ]
  },
  {
   "cell_type": "markdown",
   "id": "b4819d6c",
   "metadata": {},
   "source": [
    "🔍 **Exercise:** Based on the section titled:\n",
    "\n",
    "## Task 0 - User Setup\n",
    "\n",
    "Write code to recreate the visualization or answer the question. Try solving it yourself before checking the solution in the original notebook.\n",
    "\n",
    "```python\n",
    "# Your code here\n",
    "```"
   ]
  },
  {
   "cell_type": "markdown",
   "id": "f78654b4",
   "metadata": {},
   "source": [
    "🔍 **Exercise:** Based on the section titled:\n",
    "\n",
    "### 0.1 Brief Data Summary\n",
    "\n",
    "Write code to recreate the visualization or answer the question. Try solving it yourself before checking the solution in the original notebook.\n",
    "\n",
    "```python\n",
    "# Your code here\n",
    "```"
   ]
  },
  {
   "cell_type": "markdown",
   "id": "7b80e4d2",
   "metadata": {},
   "source": [
    "🔍 **Exercise:** Based on the section titled:\n",
    "\n",
    "### 1.1 🧓 How Old Are Our Patients?\n",
    "Let’s kick off with something fun and informative!  \n",
    "We calculated the age of each patient using their birthdate.\n",
    "\n",
    "Write code to recreate the visualization or answer the question. Try solving it yourself before checking the solution in the original notebook.\n",
    "\n",
    "```python\n",
    "# Your code here\n",
    "```"
   ]
  },
  {
   "cell_type": "markdown",
   "id": "4efd25ba",
   "metadata": {},
   "source": [
    "🔍 **Exercise:** Based on the section titled:\n",
    "\n",
    "### 1.2 Healthcare Expenses by Gender\n",
    "\n",
    "Let’s analyze how healthcare expenses vary between male and female patients.\n",
    "\n",
    "Write code to recreate the visualization or answer the question. Try solving it yourself before checking the solution in the original notebook.\n",
    "\n",
    "```python\n",
    "# Your code here\n",
    "```"
   ]
  },
  {
   "cell_type": "markdown",
   "id": "407da042",
   "metadata": {},
   "source": [
    "🔍 **Exercise:** Based on the section titled:\n",
    "\n",
    "#### Exercise 2\n",
    "\n",
    "Write code to recreate the visualization or answer the question. Try solving it yourself before checking the solution in the original notebook.\n",
    "\n",
    "```python\n",
    "# Your code here\n",
    "```"
   ]
  },
  {
   "cell_type": "markdown",
   "id": "c7c90ab2",
   "metadata": {},
   "source": [
    "🔍 **Exercise:** Based on the section titled:\n",
    "\n",
    "### 1.3 📊 Top 10 Most Common Observations\n",
    "\n",
    "This bar chart shows the most frequently recorded observations—vital signs, lab tests, screenings, etc.\n",
    "\n",
    "**📝 Insight Prompt:**  \n",
    "Think of this as your dataset’s \"clinical heartbeat.\"\n",
    "\n",
    "Write code to recreate the visualization or answer the question. Try solving it yourself before checking the solution in the original notebook.\n",
    "\n",
    "```python\n",
    "# Your code here\n",
    "```"
   ]
  },
  {
   "cell_type": "markdown",
   "id": "20c4f938",
   "metadata": {},
   "source": [
    "🔍 **Exercise:** Based on the section titled:\n",
    "\n",
    "### 1.4 🦠 Top 10 Diagnosed Conditions\n",
    "\n",
    "This chart shows the most commonly diagnosed conditions in the dataset.\n",
    "\n",
    "**📝 What to Notice:**  \n",
    "Are most of these chronic (long-term) or acute (short-term) issues?\n",
    "\n",
    "Write code to recreate the visualization or answer the question. Try solving it yourself before checking the solution in the original notebook.\n",
    "\n",
    "```python\n",
    "# Your code here\n",
    "```"
   ]
  },
  {
   "cell_type": "markdown",
   "id": "d5d7da4a",
   "metadata": {},
   "source": [
    "🔍 **Exercise:** Based on the section titled:\n",
    "\n",
    "### 1.5 🧬 Race Distribution of Patients\n",
    "\n",
    "The pie chart reflects the racial diversity (or lack thereof) in the dataset.\n",
    "\n",
    "Demographic representation affects the generalizability of research findings.\n",
    "\n",
    "Write code to recreate the visualization or answer the question. Try solving it yourself before checking the solution in the original notebook.\n",
    "\n",
    "```python\n",
    "# Your code here\n",
    "```"
   ]
  },
  {
   "cell_type": "markdown",
   "id": "4fb7d7be",
   "metadata": {},
   "source": [
    "🔍 **Exercise:** Based on the section titled:\n",
    "\n",
    "### 1.6 Age vs. Healthcare Expenses\n",
    "\n",
    "This scatter plot shows the relationship between a patient’s age and how much they spend on healthcare.\n",
    "\n",
    "**What to Notice:**  \n",
    "Do older patients seem to have higher expenses overall?\n",
    "\n",
    "Write code to recreate the visualization or answer the question. Try solving it yourself before checking the solution in the original notebook.\n",
    "\n",
    "```python\n",
    "# Your code here\n",
    "```"
   ]
  },
  {
   "cell_type": "markdown",
   "id": "4d14a4bf",
   "metadata": {},
   "source": [
    "🔍 **Exercise:** Based on the section titled:\n",
    "\n",
    "#### Exercise 4\n",
    "\n",
    "Write code to recreate the visualization or answer the question. Try solving it yourself before checking the solution in the original notebook.\n",
    "\n",
    "```python\n",
    "# Your code here\n",
    "```"
   ]
  },
  {
   "cell_type": "markdown",
   "id": "d4a3ca20",
   "metadata": {},
   "source": [
    "🔍 **Exercise:** Based on the section titled:\n",
    "\n",
    "### 2.1 Top 5 Diagnosed Conditions (Table)\n",
    "\n",
    "Write code to recreate the visualization or answer the question. Try solving it yourself before checking the solution in the original notebook.\n",
    "\n",
    "```python\n",
    "# Your code here\n",
    "```"
   ]
  },
  {
   "cell_type": "markdown",
   "id": "e32dea47",
   "metadata": {},
   "source": [
    "🔍 **Exercise:** Based on the section titled:\n",
    "\n",
    "### 2.2 Boxplot — Age Distribution of Top Conditions\n",
    "\n",
    "Write code to recreate the visualization or answer the question. Try solving it yourself before checking the solution in the original notebook.\n",
    "\n",
    "```python\n",
    "# Your code here\n",
    "```"
   ]
  },
  {
   "cell_type": "markdown",
   "id": "fd61c06e",
   "metadata": {},
   "source": [
    "🔍 **Exercise:** Based on the section titled:\n",
    "\n",
    "### 2.3 Scatter Plot — Timeline Viewer\n",
    "\n",
    "Write code to recreate the visualization or answer the question. Try solving it yourself before checking the solution in the original notebook.\n",
    "\n",
    "```python\n",
    "# Your code here\n",
    "```"
   ]
  },
  {
   "cell_type": "markdown",
   "id": "be5ebe3e",
   "metadata": {},
   "source": [
    "🔍 **Exercise:** Based on the section titled:\n",
    "\n",
    "### 2.4 groupby()\n",
    "\n",
    "Write code to recreate the visualization or answer the question. Try solving it yourself before checking the solution in the original notebook.\n",
    "\n",
    "```python\n",
    "# Your code here\n",
    "```"
   ]
  },
  {
   "cell_type": "markdown",
   "id": "b21bcd1c",
   "metadata": {},
   "source": [
    "🔍 **Exercise:** Based on the section titled:\n",
    "\n",
    "#### Exercise 7\n",
    "\n",
    "Write code to recreate the visualization or answer the question. Try solving it yourself before checking the solution in the original notebook.\n",
    "\n",
    "```python\n",
    "# Your code here\n",
    "```"
   ]
  },
  {
   "cell_type": "markdown",
   "id": "7561edbe",
   "metadata": {},
   "source": [
    "🔍 **Exercise:** Based on the section titled:\n",
    "\n",
    "## Task 3 - Social Risk Factor Analysis\n",
    "\n",
    "Write code to recreate the visualization or answer the question. Try solving it yourself before checking the solution in the original notebook.\n",
    "\n",
    "```python\n",
    "# Your code here\n",
    "```"
   ]
  },
  {
   "cell_type": "markdown",
   "id": "b8acc7b1",
   "metadata": {},
   "source": [
    "🔍 **Exercise:** Based on the section titled:\n",
    "\n",
    "### 3.1 Table Preview: Patients with Social Risk Factors\n",
    "\n",
    "Write code to recreate the visualization or answer the question. Try solving it yourself before checking the solution in the original notebook.\n",
    "\n",
    "```python\n",
    "# Your code here\n",
    "```"
   ]
  },
  {
   "cell_type": "markdown",
   "id": "8e589a58",
   "metadata": {},
   "source": [
    "🔍 **Exercise:** Based on the section titled:\n",
    "\n",
    "### 3.2 Bar Chart: Top Social Risk Factors\n",
    "\n",
    "Write code to recreate the visualization or answer the question. Try solving it yourself before checking the solution in the original notebook.\n",
    "\n",
    "```python\n",
    "# Your code here\n",
    "```"
   ]
  },
  {
   "cell_type": "markdown",
   "id": "a5a61b89",
   "metadata": {},
   "source": [
    "🔍 **Exercise:** Based on the section titled:\n",
    "\n",
    "### 3.3 New Visualization: Gender Comparison\n",
    "\n",
    "Write code to recreate the visualization or answer the question. Try solving it yourself before checking the solution in the original notebook.\n",
    "\n",
    "```python\n",
    "# Your code here\n",
    "```"
   ]
  },
  {
   "cell_type": "markdown",
   "id": "d405b109",
   "metadata": {},
   "source": [
    "🔍 **Exercise:** Based on the section titled:\n",
    "\n",
    "### 3.4 Coding Challenge: Age Group Analysis\n",
    "\n",
    "**Goal:**\n",
    "\n",
    "Group patients with social risk factors into age buckets and determine how prevalence varies by age.\n",
    "\n",
    "Write code to recreate the visualization or answer the question. Try solving it yourself before checking the solution in the original notebook.\n",
    "\n",
    "```python\n",
    "# Your code here\n",
    "```"
   ]
  },
  {
   "cell_type": "markdown",
   "id": "8657ff22",
   "metadata": {},
   "source": [
    "🔍 **Exercise:** Based on the section titled:\n",
    "\n",
    "### 3.5 Pie Chart: Risk Factor Proportions\n",
    "\n",
    "**Objective:**\n",
    "Visualize the distribution of social risk factor types among all at-risk patient entries.\n",
    "\n",
    "Write code to recreate the visualization or answer the question. Try solving it yourself before checking the solution in the original notebook.\n",
    "\n",
    "```python\n",
    "# Your code here\n",
    "```"
   ]
  },
  {
   "cell_type": "markdown",
   "id": "f976d4b5",
   "metadata": {},
   "source": [
    "🔍 **Exercise:** Based on the section titled:\n",
    "\n",
    "### Extra - Exploring Clinical Patterns Among Socially At-Risk Patients\n",
    "\n",
    "Write code to recreate the visualization or answer the question. Try solving it yourself before checking the solution in the original notebook.\n",
    "\n",
    "```python\n",
    "# Your code here\n",
    "```"
   ]
  },
  {
   "cell_type": "markdown",
   "id": "0ee9fb20",
   "metadata": {},
   "source": [
    "🔍 **Exercise:** Based on the section titled:\n",
    "\n",
    "## Task 4 - Custom Query Builder\n",
    "Okay, now let’s explore how we can build flexible queries using our patient, condition, and observation data.\n",
    "\n",
    "This is perfect for researchers who want to slice and dice the data by demographics, risks, and health profiles.\n",
    "\n",
    "Write code to recreate the visualization or answer the question. Try solving it yourself before checking the solution in the original notebook.\n",
    "\n",
    "```python\n",
    "# Your code here\n",
    "```"
   ]
  },
  {
   "cell_type": "markdown",
   "id": "0fd3b02c",
   "metadata": {},
   "source": [
    "🔍 **Exercise:** Based on the section titled:\n",
    "\n",
    "### 4.1 Grouped Summary Table: Demographics + Risks\n",
    " > Let’s start by building a summary table that shows average age, average healthcare expenses, and patient count for each social risk type and gender\n",
    "\n",
    "Write code to recreate the visualization or answer the question. Try solving it yourself before checking the solution in the original notebook.\n",
    "\n",
    "```python\n",
    "# Your code here\n",
    "```"
   ]
  },
  {
   "cell_type": "markdown",
   "id": "5889279e",
   "metadata": {},
   "source": [
    "🔍 **Exercise:** Based on the section titled:\n",
    "\n",
    "#### Exercise 11\n",
    "\n",
    "Write code to recreate the visualization or answer the question. Try solving it yourself before checking the solution in the original notebook.\n",
    "\n",
    "```python\n",
    "# Your code here\n",
    "```"
   ]
  },
  {
   "cell_type": "markdown",
   "id": "c86d3958",
   "metadata": {},
   "source": [
    "🔍 **Exercise:** Based on the section titled:\n",
    "\n",
    "### 4.2 🌡️ Heatmap: Conditions by Gender\n",
    " > Okay, now let’s explore which conditions are more prevalent by gender. A heatmap helps us visualize how frequently each diagnosis appears.\n",
    "\n",
    "Write code to recreate the visualization or answer the question. Try solving it yourself before checking the solution in the original notebook.\n",
    "\n",
    "```python\n",
    "# Your code here\n",
    "```"
   ]
  },
  {
   "cell_type": "markdown",
   "id": "160c90f5",
   "metadata": {},
   "source": [
    "🔍 **Exercise:** Based on the section titled:\n",
    "\n",
    "#### Exercise 12\n",
    "\n",
    "Write code to recreate the visualization or answer the question. Try solving it yourself before checking the solution in the original notebook.\n",
    "\n",
    "```python\n",
    "# Your code here\n",
    "```"
   ]
  },
  {
   "cell_type": "markdown",
   "id": "6b53d6c3",
   "metadata": {},
   "source": [
    "🔍 **Exercise:** Based on the section titled:\n",
    "\n",
    "### 4.3 🌲 Treemap: Conditions by Risk Response\n",
    " > Let’s explore a treemap that shows the breakdown of health conditions under each social risk type. This visualization gives you a quick sense of volume and diversity.\n",
    "\n",
    "Write code to recreate the visualization or answer the question. Try solving it yourself before checking the solution in the original notebook.\n",
    "\n",
    "```python\n",
    "# Your code here\n",
    "```"
   ]
  },
  {
   "cell_type": "markdown",
   "id": "6bffdb31",
   "metadata": {},
   "source": [
    "🔍 **Exercise:** Based on the section titled:\n",
    "\n",
    "### 4.4 Line Graph: Average Healthcare Expense Over Age by Social Risk\n",
    "> This line chart will show how average healthcare expenses change with age, split by social risk factor (VALUE_CLEAN). This adds a temporal or continuous element to your analysis — perfect for a line plot.\n",
    "\n",
    "Write code to recreate the visualization or answer the question. Try solving it yourself before checking the solution in the original notebook.\n",
    "\n",
    "```python\n",
    "# Your code here\n",
    "```"
   ]
  },
  {
   "cell_type": "markdown",
   "id": "23f8e9af",
   "metadata": {},
   "source": [
    "🔍 **Exercise:** Based on the section titled:\n",
    "\n",
    "### 4.5 Text-Based Condition Query: Simulated Search Bar\n",
    "> Okay, now let’s explore how you might create a search box style filter for diagnoses using a keyword. Think of it like building a custom filter tool.\n",
    "\n",
    "Write code to recreate the visualization or answer the question. Try solving it yourself before checking the solution in the original notebook.\n",
    "\n",
    "```python\n",
    "# Your code here\n",
    "```"
   ]
  },
  {
   "cell_type": "markdown",
   "id": "11e44205",
   "metadata": {},
   "source": [
    "🔍 **Exercise:** Based on the section titled:\n",
    "\n",
    "### 4.6 📊 TableOne\n",
    "> In clinical research, it's common to generate a **Table 1** to compare demographic and clinical variables across groups. Here, we're comparing age, gender, race, and condition description across different social risk categories.\n",
    "\n",
    "> This is made easy with the `tableone` package, which automatically handles categorical and continuous variables and provides p-values for group comparisons.\n",
    "\n",
    "Write code to recreate the visualization or answer the question. Try solving it yourself before checking the solution in the original notebook.\n",
    "\n",
    "```python\n",
    "# Your code here\n",
    "```"
   ]
  }
 ],
 "metadata": {
  "kernelspec": {
   "display_name": "Python 3 (ipykernel)",
   "language": "python",
   "name": "python3"
  },
  "language_info": {
   "codemirror_mode": {
    "name": "ipython",
    "version": 3
   },
   "file_extension": ".py",
   "mimetype": "text/x-python",
   "name": "python",
   "nbconvert_exporter": "python",
   "pygments_lexer": "ipython3",
   "version": "3.10.9"
  }
 },
 "nbformat": 4,
 "nbformat_minor": 5
}
